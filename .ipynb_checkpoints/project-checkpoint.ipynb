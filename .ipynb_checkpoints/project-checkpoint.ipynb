{
 "cells": [
  {
   "cell_type": "markdown",
   "id": "e9fdf7db-e36d-4774-89c4-62c1dec9ad33",
   "metadata": {},
   "source": [
    "**Ход исследования:**\n",
    "\n",
    "1. [Подготовка данных](#data_preparation)\n",
    "2. [Функции извлечения данных из текста](#search_function)\n",
    "3. [Извлечение данных](#data_extraction)\n",
    "4. [Обработка аномалий](#anomaly_processing)\n",
    "5. [Исследовательский анализ данных](#exploratory_data_analysis)\n",
    "6. [Общий вывод](#conclusion)"
   ]
  },
  {
   "cell_type": "code",
   "execution_count": 1,
   "id": "af4a1b18-f67a-4374-85f8-fc545b3ddcfc",
   "metadata": {},
   "outputs": [],
   "source": [
    "import pandas as pd\n",
    "import re\n",
    "import numpy as np\n",
    "import matplotlib.pyplot as plt\n",
    "import seaborn as sns"
   ]
  },
  {
   "cell_type": "markdown",
   "id": "ebac197e-6f4f-4367-b89c-9176a82461ee",
   "metadata": {},
   "source": [
    "### Шаг 1. <a id=\"data_preparation\">Подготовка данных</a> "
   ]
  },
  {
   "cell_type": "code",
   "execution_count": 2,
   "id": "0b3a86bc-b999-4c93-ae4d-bf4c9793080e",
   "metadata": {},
   "outputs": [],
   "source": [
    "df = pd.read_csv(\"C:\\\\Users\\\\Ilya\\\\Documents\\\\Обучение\\\\\\Сайты судов\\\\\\Проект итог\\\\analysis_of_court_decisions.csv\")\n",
    "dev_df = pd.read_csv(\"C:\\\\Users\\\\Ilya\\\\Documents\\\\Обучение\\\\\\Сайты судов\\\\\\Проект итог\\\\developers.csv\")"
   ]
  },
  {
   "cell_type": "code",
   "execution_count": 3,
   "id": "4be3bbb5-d2ca-41df-8f6c-60ca97da133e",
   "metadata": {},
   "outputs": [
    {
     "name": "stdout",
     "output_type": "stream",
     "text": [
      "<class 'pandas.core.frame.DataFrame'>\n",
      "RangeIndex: 2101 entries, 0 to 2100\n",
      "Data columns (total 5 columns):\n",
      " #   Column      Non-Null Count  Dtype \n",
      "---  ------      --------------  ----- \n",
      " 0   court_name  2101 non-null   object\n",
      " 1   entryDate   2101 non-null   object\n",
      " 2   resultDate  2101 non-null   object\n",
      " 3   decision    2101 non-null   object\n",
      " 4   text        2101 non-null   object\n",
      "dtypes: object(5)\n",
      "memory usage: 82.2+ KB\n"
     ]
    }
   ],
   "source": [
    "df.info()"
   ]
  },
  {
   "cell_type": "code",
   "execution_count": 4,
   "id": "95ecbd2f-cde6-4b38-8c34-1e7477b9cc39",
   "metadata": {},
   "outputs": [
    {
     "data": {
      "text/html": [
       "<div>\n",
       "<style scoped>\n",
       "    .dataframe tbody tr th:only-of-type {\n",
       "        vertical-align: middle;\n",
       "    }\n",
       "\n",
       "    .dataframe tbody tr th {\n",
       "        vertical-align: top;\n",
       "    }\n",
       "\n",
       "    .dataframe thead th {\n",
       "        text-align: right;\n",
       "    }\n",
       "</style>\n",
       "<table border=\"1\" class=\"dataframe\">\n",
       "  <thead>\n",
       "    <tr style=\"text-align: right;\">\n",
       "      <th></th>\n",
       "      <th>court_name</th>\n",
       "      <th>entryDate</th>\n",
       "      <th>resultDate</th>\n",
       "      <th>decision</th>\n",
       "      <th>text</th>\n",
       "    </tr>\n",
       "  </thead>\n",
       "  <tbody>\n",
       "    <tr>\n",
       "      <th>0</th>\n",
       "      <td>Краснокамский городской суд Пермского края</td>\n",
       "      <td>22.09.2023</td>\n",
       "      <td>11.01.2024</td>\n",
       "      <td>Иск (заявление, жалоба) УДОВЛЕТВОРЕН ЧАСТИЧНО</td>\n",
       "      <td>Дело № РЕШЕНИЕ Именем Российской Федерации &lt;ад...</td>\n",
       "    </tr>\n",
       "    <tr>\n",
       "      <th>1</th>\n",
       "      <td>Краснокамский городской суд Пермского края</td>\n",
       "      <td>14.12.2023</td>\n",
       "      <td>12.03.2024</td>\n",
       "      <td>Иск (заявление, жалоба) УДОВЛЕТВОРЕН ЧАСТИЧНО</td>\n",
       "      <td>№ ЗАОЧНОЕ РЕШЕНИЕ Именем Российской Федерации ...</td>\n",
       "    </tr>\n",
       "    <tr>\n",
       "      <th>2</th>\n",
       "      <td>Соликамский городской суд Пермского края</td>\n",
       "      <td>07.11.2023</td>\n",
       "      <td>28.11.2023</td>\n",
       "      <td>Иск (заявление, жалоба) УДОВЛЕТВОРЕН</td>\n",
       "      <td>№ 2-2797/2023 &lt;данные изъяты&gt; Р Е Ш Е Н И Е Им...</td>\n",
       "    </tr>\n",
       "    <tr>\n",
       "      <th>3</th>\n",
       "      <td>Осинский районный суд Пермского края</td>\n",
       "      <td>09.10.2024</td>\n",
       "      <td>11.11.2024</td>\n",
       "      <td>Иск (заявление, жалоба) УДОВЛЕТВОРЕН</td>\n",
       "      <td>&lt;данные изъяты&gt; УИД: 59RS0030-01-2024-001515-8...</td>\n",
       "    </tr>\n",
       "    <tr>\n",
       "      <th>4</th>\n",
       "      <td>Осинский районный суд Пермского края</td>\n",
       "      <td>15.10.2024</td>\n",
       "      <td>02.11.2024</td>\n",
       "      <td>Передано по подсудности, подведомственности</td>\n",
       "      <td>&lt;данные изъяты&gt; УИД: 59RS0030-01-2024-001556-6...</td>\n",
       "    </tr>\n",
       "  </tbody>\n",
       "</table>\n",
       "</div>"
      ],
      "text/plain": [
       "                                   court_name   entryDate  resultDate  \\\n",
       "0  Краснокамский городской суд Пермского края  22.09.2023  11.01.2024   \n",
       "1  Краснокамский городской суд Пермского края  14.12.2023  12.03.2024   \n",
       "2    Соликамский городской суд Пермского края  07.11.2023  28.11.2023   \n",
       "3        Осинский районный суд Пермского края  09.10.2024  11.11.2024   \n",
       "4        Осинский районный суд Пермского края  15.10.2024  02.11.2024   \n",
       "\n",
       "                                        decision  \\\n",
       "0  Иск (заявление, жалоба) УДОВЛЕТВОРЕН ЧАСТИЧНО   \n",
       "1  Иск (заявление, жалоба) УДОВЛЕТВОРЕН ЧАСТИЧНО   \n",
       "2           Иск (заявление, жалоба) УДОВЛЕТВОРЕН   \n",
       "3           Иск (заявление, жалоба) УДОВЛЕТВОРЕН   \n",
       "4    Передано по подсудности, подведомственности   \n",
       "\n",
       "                                                text  \n",
       "0  Дело № РЕШЕНИЕ Именем Российской Федерации <ад...  \n",
       "1  № ЗАОЧНОЕ РЕШЕНИЕ Именем Российской Федерации ...  \n",
       "2  № 2-2797/2023 <данные изъяты> Р Е Ш Е Н И Е Им...  \n",
       "3  <данные изъяты> УИД: 59RS0030-01-2024-001515-8...  \n",
       "4  <данные изъяты> УИД: 59RS0030-01-2024-001556-6...  "
      ]
     },
     "execution_count": 4,
     "metadata": {},
     "output_type": "execute_result"
    }
   ],
   "source": [
    "df.head(5)"
   ]
  },
  {
   "cell_type": "code",
   "execution_count": 5,
   "id": "88c8b392-cbb4-4572-b174-f9c4056d64ed",
   "metadata": {},
   "outputs": [
    {
     "name": "stdout",
     "output_type": "stream",
     "text": [
      "<class 'pandas.core.frame.DataFrame'>\n",
      "RangeIndex: 131 entries, 0 to 130\n",
      "Data columns (total 3 columns):\n",
      " #   Column          Non-Null Count  Dtype \n",
      "---  ------          --------------  ----- \n",
      " 0   developer_name  131 non-null    object\n",
      " 1   group_name      131 non-null    object\n",
      " 2   inn             131 non-null    int64 \n",
      "dtypes: int64(1), object(2)\n",
      "memory usage: 3.2+ KB\n"
     ]
    }
   ],
   "source": [
    "dev_df.info()"
   ]
  },
  {
   "cell_type": "code",
   "execution_count": 6,
   "id": "fc557866-a7e8-4239-be58-3e30d1341130",
   "metadata": {},
   "outputs": [
    {
     "data": {
      "text/html": [
       "<div>\n",
       "<style scoped>\n",
       "    .dataframe tbody tr th:only-of-type {\n",
       "        vertical-align: middle;\n",
       "    }\n",
       "\n",
       "    .dataframe tbody tr th {\n",
       "        vertical-align: top;\n",
       "    }\n",
       "\n",
       "    .dataframe thead th {\n",
       "        text-align: right;\n",
       "    }\n",
       "</style>\n",
       "<table border=\"1\" class=\"dataframe\">\n",
       "  <thead>\n",
       "    <tr style=\"text-align: right;\">\n",
       "      <th></th>\n",
       "      <th>developer_name</th>\n",
       "      <th>group_name</th>\n",
       "      <th>inn</th>\n",
       "    </tr>\n",
       "  </thead>\n",
       "  <tbody>\n",
       "    <tr>\n",
       "      <th>0</th>\n",
       "      <td>ООО ДСК-СТРОЙ</td>\n",
       "      <td>ДСК-СТРОЙ</td>\n",
       "      <td>1840027673</td>\n",
       "    </tr>\n",
       "    <tr>\n",
       "      <th>1</th>\n",
       "      <td>ООО НОВЫЙ ЗВЕЗДНЫЙ</td>\n",
       "      <td>Новый Звездный</td>\n",
       "      <td>5902061480</td>\n",
       "    </tr>\n",
       "    <tr>\n",
       "      <th>2</th>\n",
       "      <td>ООО СЗ - МИНИПОЛИС КУЛТАЕВО ПАРК</td>\n",
       "      <td>Култаево парк</td>\n",
       "      <td>5904397550</td>\n",
       "    </tr>\n",
       "    <tr>\n",
       "      <th>3</th>\n",
       "      <td>ООО СЗ 1000 ЭТАЖЕЙ</td>\n",
       "      <td>1000 этажей</td>\n",
       "      <td>1800005240</td>\n",
       "    </tr>\n",
       "    <tr>\n",
       "      <th>4</th>\n",
       "      <td>ООО СЗ АЗУРИТ</td>\n",
       "      <td>Родонит-инвест</td>\n",
       "      <td>5903143471</td>\n",
       "    </tr>\n",
       "  </tbody>\n",
       "</table>\n",
       "</div>"
      ],
      "text/plain": [
       "                     developer_name      group_name         inn\n",
       "0                     ООО ДСК-СТРОЙ       ДСК-СТРОЙ  1840027673\n",
       "1                ООО НОВЫЙ ЗВЕЗДНЫЙ  Новый Звездный  5902061480\n",
       "2  ООО СЗ - МИНИПОЛИС КУЛТАЕВО ПАРК   Култаево парк  5904397550\n",
       "3                ООО СЗ 1000 ЭТАЖЕЙ     1000 этажей  1800005240\n",
       "4                     ООО СЗ АЗУРИТ  Родонит-инвест  5903143471"
      ]
     },
     "execution_count": 6,
     "metadata": {},
     "output_type": "execute_result"
    }
   ],
   "source": [
    "dev_df.head(5)"
   ]
  },
  {
   "cell_type": "code",
   "execution_count": 7,
   "id": "1ce6bd01-db85-46d3-9b33-34a87dcf8da3",
   "metadata": {
    "scrolled": true
   },
   "outputs": [
    {
     "data": {
      "text/plain": [
       "array(['Иск (заявление, жалоба) УДОВЛЕТВОРЕН ЧАСТИЧНО',\n",
       "       'Иск (заявление, жалоба) УДОВЛЕТВОРЕН',\n",
       "       'Передано по подсудности, подведомственности',\n",
       "       'Заявление ВОЗВРАЩЕНО заявителю',\n",
       "       'ОТКАЗАНО в удовлетворении иска (заявлении, жалобы)',\n",
       "       'Производство по делу ПРЕКРАЩЕНО',\n",
       "       'Иск (заявление, жалоба) ОСТАВЛЕН БЕЗ РАССМОТРЕНИЯ',\n",
       "       'Дело присоединено к другому делу',\n",
       "       'ОТКАЗАНО в принятии заявления'], dtype=object)"
      ]
     },
     "execution_count": 7,
     "metadata": {},
     "output_type": "execute_result"
    }
   ],
   "source": [
    "# выбираем нужные статус дела\n",
    "df['decision'].unique()"
   ]
  },
  {
   "cell_type": "code",
   "execution_count": 8,
   "id": "ebe2c4ab-372b-4af8-8696-09cfc8da5332",
   "metadata": {},
   "outputs": [],
   "source": [
    "# фильтруем только выигранные дела\n",
    "filtered_df = df.query('decision in [\"Иск (заявление, жалоба) УДОВЛЕТВОРЕН ЧАСТИЧНО\", \"Иск (заявление, жалоба) УДОВЛЕТВОРЕН\"]')"
   ]
  },
  {
   "cell_type": "code",
   "execution_count": 9,
   "id": "bd342df6-3043-485b-9966-c8e9b69c9372",
   "metadata": {},
   "outputs": [],
   "source": [
    "# фильтруем только дела с застройщиками\n",
    "filtered_df = filtered_df[\n",
    "    filtered_df['text'].str.contains(r'\\bзастройщик\\b', case=False, na=False) & \n",
    "    (filtered_df['text'] != '-')\n",
    "].reset_index(drop=True)"
   ]
  },
  {
   "cell_type": "code",
   "execution_count": 10,
   "id": "e77fc991-2352-43d8-8983-4d9e786f9c7c",
   "metadata": {},
   "outputs": [],
   "source": [
    "# отфильтруем дела где к тексте определение, а не решение суда\n",
    "filtered_df = filtered_df[\n",
    "    ~filtered_df['text'].str.contains(r'[оО][\\sПпРрЕеДдЛлИи]+[лЛ][:]', case=False, na=False)].reset_index(drop=True)"
   ]
  },
  {
   "cell_type": "code",
   "execution_count": 11,
   "id": "44a35354-29d8-4dd8-837c-cc50c49e5da6",
   "metadata": {},
   "outputs": [
    {
     "name": "stdout",
     "output_type": "stream",
     "text": [
      "<class 'pandas.core.frame.DataFrame'>\n",
      "RangeIndex: 662 entries, 0 to 661\n",
      "Data columns (total 5 columns):\n",
      " #   Column      Non-Null Count  Dtype \n",
      "---  ------      --------------  ----- \n",
      " 0   court_name  662 non-null    object\n",
      " 1   entryDate   662 non-null    object\n",
      " 2   resultDate  662 non-null    object\n",
      " 3   decision    662 non-null    object\n",
      " 4   text        662 non-null    object\n",
      "dtypes: object(5)\n",
      "memory usage: 26.0+ KB\n"
     ]
    }
   ],
   "source": [
    "filtered_df.info()"
   ]
  },
  {
   "cell_type": "code",
   "execution_count": 12,
   "id": "434d1f63-3dd6-4816-bcb6-c9741c9318ae",
   "metadata": {},
   "outputs": [],
   "source": [
    "# приводим заголовки к змеиному стилю\n",
    "filtered_df = filtered_df.rename(columns={'entryDate': 'entry_date', 'resultDate': 'result_date'})"
   ]
  },
  {
   "cell_type": "code",
   "execution_count": 13,
   "id": "20799f53-0851-4007-93f2-afcf432fc17d",
   "metadata": {},
   "outputs": [],
   "source": [
    "# преобразование данных о времени\n",
    "filtered_df['entry_date'] = pd.to_datetime(filtered_df['entry_date'], format='%d.%m.%Y')\n",
    "filtered_df['result_date'] = pd.to_datetime(filtered_df['result_date'], format='%d.%m.%Y')"
   ]
  },
  {
   "cell_type": "code",
   "execution_count": 14,
   "id": "49336990-d339-4904-bca1-1b353fa0ee49",
   "metadata": {},
   "outputs": [
    {
     "data": {
      "text/plain": [
       "array(['Соликамский городской суд Пермского края',\n",
       "       'Индустриальный районный суд города Перми',\n",
       "       'Дзержинский районный суд г. Перми',\n",
       "       'Свердловский районный суд г. Перми',\n",
       "       'Ленинский районный суд города Перми',\n",
       "       'Мотовилихинский районный суд г. Перми',\n",
       "       'Пермский районный суд Пермского края',\n",
       "       'Орджоникидзевский районный суд г. Перми',\n",
       "       'Кировский районный суд г. Перми',\n",
       "       'Березниковский городской суд Пермского края'], dtype=object)"
      ]
     },
     "execution_count": 14,
     "metadata": {},
     "output_type": "execute_result"
    }
   ],
   "source": [
    "# проверяем решения каких судов у нас остались\n",
    "filtered_df['court_name'].unique()"
   ]
  },
  {
   "cell_type": "code",
   "execution_count": 15,
   "id": "53e4babe-2f98-4531-a605-67410db1c4f8",
   "metadata": {},
   "outputs": [
    {
     "name": "stdout",
     "output_type": "stream",
     "text": [
      "\n",
      "Самый ранний поданный иск: 2022-02-28 00:00:00\n",
      "Самый поздний поданный иск: 2024-09-12 00:00:00\n",
      "Самое ранее решение суда: 2023-11-02 00:00:00\n",
      "Самое позднее решение суда: 2024-11-18 00:00:00\n",
      "\n"
     ]
    }
   ],
   "source": [
    "# посмотрим даты решений суда\n",
    "print(f'''\n",
    "Самый ранний поданный иск: {filtered_df['entry_date'].min()}\n",
    "Самый поздний поданный иск: {filtered_df['entry_date'].max()}\n",
    "Самое ранее решение суда: {filtered_df['result_date'].min()}\n",
    "Самое позднее решение суда: {filtered_df['result_date'].max()}\n",
    "''')"
   ]
  },
  {
   "cell_type": "code",
   "execution_count": 16,
   "id": "78158c32-f288-4f8f-8288-22a68c4b8d36",
   "metadata": {},
   "outputs": [
    {
     "data": {
      "text/html": [
       "<div>\n",
       "<style scoped>\n",
       "    .dataframe tbody tr th:only-of-type {\n",
       "        vertical-align: middle;\n",
       "    }\n",
       "\n",
       "    .dataframe tbody tr th {\n",
       "        vertical-align: top;\n",
       "    }\n",
       "\n",
       "    .dataframe thead th {\n",
       "        text-align: right;\n",
       "    }\n",
       "</style>\n",
       "<table border=\"1\" class=\"dataframe\">\n",
       "  <thead>\n",
       "    <tr style=\"text-align: right;\">\n",
       "      <th></th>\n",
       "      <th>court_name</th>\n",
       "      <th>entry_date</th>\n",
       "      <th>result_date</th>\n",
       "      <th>decision</th>\n",
       "      <th>text</th>\n",
       "    </tr>\n",
       "  </thead>\n",
       "  <tbody>\n",
       "    <tr>\n",
       "      <th>0</th>\n",
       "      <td>Соликамский городской суд Пермского края</td>\n",
       "      <td>2023-11-07</td>\n",
       "      <td>2023-11-28</td>\n",
       "      <td>Иск (заявление, жалоба) УДОВЛЕТВОРЕН</td>\n",
       "      <td>№ 2-2797/2023 &lt;данные изъяты&gt; Р Е Ш Е Н И Е Им...</td>\n",
       "    </tr>\n",
       "    <tr>\n",
       "      <th>1</th>\n",
       "      <td>Индустриальный районный суд города Перми</td>\n",
       "      <td>2023-07-28</td>\n",
       "      <td>2024-04-24</td>\n",
       "      <td>Иск (заявление, жалоба) УДОВЛЕТВОРЕН ЧАСТИЧНО</td>\n",
       "      <td>&lt;данные изъяты&gt; (59RS0002-01-2023-003521-95) К...</td>\n",
       "    </tr>\n",
       "    <tr>\n",
       "      <th>2</th>\n",
       "      <td>Индустриальный районный суд города Перми</td>\n",
       "      <td>2023-03-23</td>\n",
       "      <td>2023-12-12</td>\n",
       "      <td>Иск (заявление, жалоба) УДОВЛЕТВОРЕН</td>\n",
       "      <td>&lt;данные изъяты&gt; (59RS0002-01-2023-001310-35) Р...</td>\n",
       "    </tr>\n",
       "    <tr>\n",
       "      <th>3</th>\n",
       "      <td>Индустриальный районный суд города Перми</td>\n",
       "      <td>2024-05-15</td>\n",
       "      <td>2024-10-22</td>\n",
       "      <td>Иск (заявление, жалоба) УДОВЛЕТВОРЕН ЧАСТИЧНО</td>\n",
       "      <td>&lt;данные изъяты&gt; - 2547/2024 ( 59RS0002-01-2024...</td>\n",
       "    </tr>\n",
       "    <tr>\n",
       "      <th>4</th>\n",
       "      <td>Индустриальный районный суд города Перми</td>\n",
       "      <td>2024-01-29</td>\n",
       "      <td>2024-06-26</td>\n",
       "      <td>Иск (заявление, жалоба) УДОВЛЕТВОРЕН ЧАСТИЧНО</td>\n",
       "      <td>&lt;данные изъяты&gt; (59RS0002-01-2024-000562-64) Р...</td>\n",
       "    </tr>\n",
       "  </tbody>\n",
       "</table>\n",
       "</div>"
      ],
      "text/plain": [
       "                                 court_name entry_date result_date  \\\n",
       "0  Соликамский городской суд Пермского края 2023-11-07  2023-11-28   \n",
       "1  Индустриальный районный суд города Перми 2023-07-28  2024-04-24   \n",
       "2  Индустриальный районный суд города Перми 2023-03-23  2023-12-12   \n",
       "3  Индустриальный районный суд города Перми 2024-05-15  2024-10-22   \n",
       "4  Индустриальный районный суд города Перми 2024-01-29  2024-06-26   \n",
       "\n",
       "                                        decision  \\\n",
       "0           Иск (заявление, жалоба) УДОВЛЕТВОРЕН   \n",
       "1  Иск (заявление, жалоба) УДОВЛЕТВОРЕН ЧАСТИЧНО   \n",
       "2           Иск (заявление, жалоба) УДОВЛЕТВОРЕН   \n",
       "3  Иск (заявление, жалоба) УДОВЛЕТВОРЕН ЧАСТИЧНО   \n",
       "4  Иск (заявление, жалоба) УДОВЛЕТВОРЕН ЧАСТИЧНО   \n",
       "\n",
       "                                                text  \n",
       "0  № 2-2797/2023 <данные изъяты> Р Е Ш Е Н И Е Им...  \n",
       "1  <данные изъяты> (59RS0002-01-2023-003521-95) К...  \n",
       "2  <данные изъяты> (59RS0002-01-2023-001310-35) Р...  \n",
       "3  <данные изъяты> - 2547/2024 ( 59RS0002-01-2024...  \n",
       "4  <данные изъяты> (59RS0002-01-2024-000562-64) Р...  "
      ]
     },
     "execution_count": 16,
     "metadata": {},
     "output_type": "execute_result"
    }
   ],
   "source": [
    "filtered_df.head(5)"
   ]
  },
  {
   "cell_type": "markdown",
   "id": "84935d39-139c-4e7a-8de2-8a17c8ea079c",
   "metadata": {},
   "source": [
    "**Вывод:** После фильтрации в нашем распоряжении осталось 662 обезличенных судебных решения, содержащих тексты и информацию о застройщиках-ответчиках. Доступны данные о датах начала разбирательства и вынесения решения, а также отдельный датасет с наименованиями застройщиков."
   ]
  },
  {
   "cell_type": "markdown",
   "id": "00dbcefd-5b27-4491-8f16-1f782d5c0a48",
   "metadata": {},
   "source": [
    "### Шаг 2. <a id=\"search_function\">Функции извлечения данных из текста</a> "
   ]
  },
  {
   "cell_type": "markdown",
   "id": "82bec518-3408-4b11-8ec4-9e49e5f93f55",
   "metadata": {},
   "source": [
    "**Задача:** Необходимо разработать четыре функции для поиска и извлечения сумм из текстов судебных решений. Три из них сравнительно простые:\n",
    "* Извлечение площади квартиры.\n",
    "* Извлечение количества комнат.\n",
    "* Извлечение номеров ИНН застройщиков (юридических лиц) для их дальнейшей идентификации.\n",
    "\n",
    "Ключевая функция – извлечение сумм заявленных требований и фактически взысканных компенсаций. Какие суммы необходимо найти:\n",
    "1. Компенсация за дефекты - основная сумма требований, от размера которой зависят расчёты неустоек и штрафов.\n",
    "2. Компенсация за моральный вред - дополнительное требование, размер которого зависит от количества истцов (дольщиков).\n",
    "3. Неустойка, штраф - дополнительные суммы, на взыскание которых действовал мораторий с марта 2024 года по декабрь 2024 года, а также с марта 2022 года по июль 2023 года. Из-за этого часть решений не содержит этих сумм.\n",
    "4. Расходы на досудебную экспертизу – в большинстве случаев удовлетворяются полностью, за исключением ситуаций, когда истец не уточнял требования после судебной экспертизы. В таких случаях сумма рассчитывается пропорционально удовлетворённому требованию за дефекты.\n",
    "5. Расходы на составление претензии – как правило, суд отказывает в их взыскании.\n",
    "6. Расходы на представителя в суде – включаются в анализ.\n",
    "\n",
    "Судебное решение состоит из **двух частей**:\n",
    "* Первая часть описывает ход процесса и содержит заявленные требования.\n",
    "* Вторая часть содержит итоговое судебное решение с взысканными суммами.\n",
    "\n",
    "Таким образом, поиск сумм должен учитывать контекст: **до и после части** где \"суд решил\". Дополнительные особенности:\n",
    "* После числовых значений указывается валюта, а для корректного отнесения суммы к определённому типу требований используются ключевые слова.\n",
    "* Исключаются суммы, которые суд постановил снизить или не приводить в исполнение. Используются слова исключения.\n",
    "* В решениях суда суммы нередко распределяются по долям собственности, поэтому значения необходимо суммировать (за исключением расходов, которые несёт один истец).\n",
    "* Как правило, первая указанная сумма – это сумма заявленных требований, а далее в тексте приводятся аргументы для её уменьшения.\n",
    "\n",
    "Сумма требований за компенсацию дефектов может многократно дублироваться в тексте (до суда заявлялась одна сумма, после судебной экспертизы – вторая, застройщик добровольно выплатил третью, остаток составил четвертую и т. д.). Было принято решение для извлечения использовать **максимальную сумму.**\n",
    "\n",
    "Проиллюстрируем три сценария:\n",
    "\n",
    "* Требование 200 тыс. руб., по судебной экспертизе подтверждено 150 тыс. руб. Во второй части(взыскание) решения будет - 150 тыс. руб., в первой части(требование) 200 тыс. руб. как максимальная сумма.\n",
    "* Требование 200 тыс. руб., застройщик не требовал судебную экспертизу, удовлетворили полностью. Во второй части будет - 200 тыс. руб. как и в первой части.\n",
    "* Требование 200 тыс. руб., по итогам судебной экспертизы посчитали 250 тыс. руб., поэтому уточнились на эту же сумму. Во второй части будет - 250 тыс. руб., как и в первой части(берём максимальную).\n",
    "\n",
    "Во втором и третьем сценарии суммы требований и взыскания полностью совпадают. Такие решения суда нужно будет **отфильтровать и исключить из анализа**, их объем предполагается небольшим - досудебные экспертизы чаще всего завышают суммы, и если не достигнуто мировое соглашение, ответчики требуют независимого подтверждения. В остальных случаях застройщик вероятно уже не ведет деятельность и не участвует в суде."
   ]
  },
  {
   "cell_type": "code",
   "execution_count": 17,
   "id": "c7907c62-851a-4dc2-92be-ce3538b65e77",
   "metadata": {},
   "outputs": [],
   "source": [
    "def extract_amount(\n",
    "    text, \n",
    "    start_str_list, \n",
    "    end_str='руб', \n",
    "    before_str_list=None, \n",
    "    after_str_list=None, \n",
    "    calculate_sum=False, \n",
    "    exclude=None, \n",
    "    debug=False, \n",
    "    return_max=False\n",
    "):\n",
    "    try:\n",
    "        if pd.isna(text):\n",
    "            return np.nan\n",
    "\n",
    "        # перевод текста в нижний регистр\n",
    "        text = text.lower()\n",
    "\n",
    "        # ограничение области поиска по after_str_list (ищем только после заданной строки)\n",
    "        if after_str_list:\n",
    "            for after_str in after_str_list:\n",
    "                after_position = text.find(after_str)\n",
    "                if after_position != -1:\n",
    "                    text = text[after_position + len(after_str):]\n",
    "                    break\n",
    "\n",
    "        # ограничение области поиска по before_str_list (ищем только до заданной строки)\n",
    "        if before_str_list:\n",
    "            for before_str in before_str_list:\n",
    "                before_position = text.find(before_str)\n",
    "                if before_position != -1:\n",
    "                    text = text[:before_position]\n",
    "                    break\n",
    "\n",
    "        total_sum = 0\n",
    "        amounts_with_positions = []\n",
    "\n",
    "        # перебор списка start_str для поиска всех вхождений\n",
    "        for start_str in start_str_list:\n",
    "            start_position = text.find(start_str)\n",
    "            while start_position != -1:\n",
    "                substring = text[start_position:start_position + 120]  # увеличенная длина для поиска суммы\n",
    "\n",
    "                if exclude:\n",
    "                    if any(exc in substring for exc in exclude):\n",
    "                        start_position = text.find(start_str, start_position + len(start_str))\n",
    "                        continue  # пропускаем текущее значение, если найдено исключение\n",
    "\n",
    "                # используется для проверки работы функции\n",
    "                if debug:\n",
    "                    print(f\"Проверяем фрагмент:\\n{substring}\")\n",
    "\n",
    "                # регулярное выражение для поиска суммы после найденной строки\n",
    "                pattern = rf\"(?<!\\d)(\\d{{1,3}}(?:[ \\,]?\\d{{3}})*(?:[\\,\\.]\\s?\\d{{1,2}})?)(?=\\s*{re.escape(end_str)}[., ]?)\"\n",
    "                match = re.search(pattern, substring)\n",
    "\n",
    "                if match:\n",
    "                    value = float(match.group(1).replace(' ', '').replace(',', '.'))\n",
    "                    absolute_position = start_position + len(start_str) + match.start()\n",
    "                    # сохраняем найденное значение и его абсолютную позицию\n",
    "                    amounts_with_positions.append((value, absolute_position))\n",
    "\n",
    "                    # используется для проверки работы функции\n",
    "                    if debug:\n",
    "                        print(f\"Найдено значение: {value}\")\n",
    "\n",
    "                # ищем следующее вхождение строки\n",
    "                start_position = text.find(start_str, start_position + len(start_str))\n",
    "\n",
    "        # если суммы найдены, сортируем по позиции в тексте\n",
    "        if amounts_with_positions:\n",
    "            amounts_with_positions.sort(key=lambda x: x[1])  # сортировка по позиции\n",
    "\n",
    "            # используется для проверки работы функции\n",
    "            if debug:\n",
    "                    print(f\"Позиции в тексте: {amounts_with_positions}\")\n",
    "\n",
    "            if calculate_sum:\n",
    "                total_sum = sum(value for value, _ in amounts_with_positions)\n",
    "                # используется для проверки работы функции\n",
    "                if debug:\n",
    "                    print(f\"Общая сумма: {total_sum}\")\n",
    "                return total_sum if total_sum > 0 else np.nan\n",
    "            \n",
    "            elif return_max:\n",
    "                max_value = max(amount[0] for amount in amounts_with_positions) # максимальное значение\n",
    "                if debug:\n",
    "                    print(f\"Максимальное значение: {max_value}\")\n",
    "                return max_value\n",
    "            else:\n",
    "                first_value = amounts_with_positions[0][0]  # первое значение по позиции\n",
    "                # используется для проверки работы функции\n",
    "                if debug:\n",
    "                    print(f\"Первое значение: {first_value}\")\n",
    "                return first_value\n",
    "\n",
    "        return np.nan\n",
    "    except Exception as e:\n",
    "        print(f\"Ошибка: {e}\")\n",
    "        return np.nan"
   ]
  },
  {
   "cell_type": "code",
   "execution_count": 18,
   "id": "5e0aa5e5-acef-40fe-9fd3-16e5c9518600",
   "metadata": {},
   "outputs": [],
   "source": [
    "def extract_inn_related_number(text):\n",
    "    try:\n",
    "        if pd.isna(text):\n",
    "            return np.nan\n",
    "        \n",
    "        # паттерн для поиска числа рядом с \"ИНН\" (до или после)\n",
    "        pattern = r\"(?:\\b(\\d{10})\\D{0,2}ИНН)|(?:ИНН\\D{0,2}(\\d{10}))\"\n",
    "        match = re.search(pattern, text)\n",
    "        \n",
    "        if match:\n",
    "            # возвращаем первое найденное число\n",
    "            return int(match.group(1) or match.group(2))\n",
    "        \n",
    "        return np.nan\n",
    "    except Exception as e:\n",
    "        print(f\"Ошибка: {e}\")\n",
    "        return np.nan"
   ]
  },
  {
   "cell_type": "code",
   "execution_count": 19,
   "id": "26bf91f5-8eca-4b2b-8e54-5e9f9dccc0df",
   "metadata": {},
   "outputs": [],
   "source": [
    "def extract_rooms_number(text):\n",
    "    # регулярное выражение для поиска количества комнат\n",
    "    match = re.search(r'(\\d+)-комнат', text)\n",
    "    if match:\n",
    "        return int(match.group(1))\n",
    "    return np.nan"
   ]
  },
  {
   "cell_type": "code",
   "execution_count": 20,
   "id": "79a32d8f-7f1b-4b1e-846e-6f2ba9209a23",
   "metadata": {},
   "outputs": [],
   "source": [
    "def extract_apartment_area(text):\n",
    "    # регулярное выражение для поиска площади\n",
    "    match = re.search(r'(\\d{1,3}(?:[.,]\\d{1,2})?)\\s?кв\\.?\\s?м', text)\n",
    "    if match:\n",
    "        # преобразуем найденное значение в float\n",
    "        return float(match.group(1).replace(',', '.'))\n",
    "    return np.nan"
   ]
  },
  {
   "cell_type": "markdown",
   "id": "320e36f3-0d4d-4094-9d2e-a3b592036fad",
   "metadata": {},
   "source": [
    "### Шаг 3. <a id=\"data_extraction\">Извлечение данных</a> "
   ]
  },
  {
   "cell_type": "markdown",
   "id": "11954e0d-f5df-4812-9b02-49323eab87b5",
   "metadata": {},
   "source": [
    "#### Шаг 3.1. Определяем ответчиков"
   ]
  },
  {
   "cell_type": "code",
   "execution_count": 21,
   "id": "d24c4f98-d0ee-4118-b685-0e3827178927",
   "metadata": {},
   "outputs": [],
   "source": [
    "filtered_df['inn'] = filtered_df['text'].apply(extract_inn_related_number)"
   ]
  },
  {
   "cell_type": "code",
   "execution_count": 22,
   "id": "d8609c10-f012-450b-91f3-7b9ac67f20f1",
   "metadata": {},
   "outputs": [],
   "source": [
    "# приводим данные к нужному типу\n",
    "filtered_df['inn'] = filtered_df['inn'].astype('Int64')"
   ]
  },
  {
   "cell_type": "code",
   "execution_count": 23,
   "id": "6432b3a8-7427-46a5-b417-945c25c6ce30",
   "metadata": {},
   "outputs": [],
   "source": [
    "# сопоставляем найденные ИНН и названия групп компаний застройщиков\n",
    "def find_developer_name(inn_value, df2):\n",
    "    match = df2.loc[df2['inn'] == inn_value, 'group_name']\n",
    "    return match.values[0] if not match.empty else None"
   ]
  },
  {
   "cell_type": "code",
   "execution_count": 24,
   "id": "3dae25fb-3641-4970-be47-c956e97a0d2f",
   "metadata": {},
   "outputs": [],
   "source": [
    "filtered_df['developer_name'] = filtered_df['inn'].apply(lambda x: find_developer_name(x, dev_df))\n",
    "filtered_df = filtered_df.drop(columns=['inn'])"
   ]
  },
  {
   "cell_type": "code",
   "execution_count": 25,
   "id": "c2bc78b8-5fa5-4915-9670-c7d65dd4ecec",
   "metadata": {},
   "outputs": [
    {
     "data": {
      "text/html": [
       "<div>\n",
       "<style scoped>\n",
       "    .dataframe tbody tr th:only-of-type {\n",
       "        vertical-align: middle;\n",
       "    }\n",
       "\n",
       "    .dataframe tbody tr th {\n",
       "        vertical-align: top;\n",
       "    }\n",
       "\n",
       "    .dataframe thead th {\n",
       "        text-align: right;\n",
       "    }\n",
       "</style>\n",
       "<table border=\"1\" class=\"dataframe\">\n",
       "  <thead>\n",
       "    <tr style=\"text-align: right;\">\n",
       "      <th></th>\n",
       "      <th>court_name</th>\n",
       "      <th>entry_date</th>\n",
       "      <th>result_date</th>\n",
       "      <th>decision</th>\n",
       "      <th>text</th>\n",
       "      <th>developer_name</th>\n",
       "    </tr>\n",
       "  </thead>\n",
       "  <tbody>\n",
       "    <tr>\n",
       "      <th>1</th>\n",
       "      <td>Индустриальный районный суд города Перми</td>\n",
       "      <td>2023-07-28</td>\n",
       "      <td>2024-04-24</td>\n",
       "      <td>Иск (заявление, жалоба) УДОВЛЕТВОРЕН ЧАСТИЧНО</td>\n",
       "      <td>&lt;данные изъяты&gt; (59RS0002-01-2023-003521-95) К...</td>\n",
       "      <td>ИнГрупп</td>\n",
       "    </tr>\n",
       "    <tr>\n",
       "      <th>2</th>\n",
       "      <td>Индустриальный районный суд города Перми</td>\n",
       "      <td>2023-03-23</td>\n",
       "      <td>2023-12-12</td>\n",
       "      <td>Иск (заявление, жалоба) УДОВЛЕТВОРЕН</td>\n",
       "      <td>&lt;данные изъяты&gt; (59RS0002-01-2023-001310-35) Р...</td>\n",
       "      <td>ОрсоГрупп</td>\n",
       "    </tr>\n",
       "    <tr>\n",
       "      <th>5</th>\n",
       "      <td>Индустриальный районный суд города Перми</td>\n",
       "      <td>2023-10-17</td>\n",
       "      <td>2024-02-26</td>\n",
       "      <td>Иск (заявление, жалоба) УДОВЛЕТВОРЕН ЧАСТИЧНО</td>\n",
       "      <td>&lt;данные изъяты&gt; &lt;данные изъяты&gt; РЕШЕНИЕ Именем...</td>\n",
       "      <td>Терра</td>\n",
       "    </tr>\n",
       "    <tr>\n",
       "      <th>9</th>\n",
       "      <td>Индустриальный районный суд города Перми</td>\n",
       "      <td>2023-02-28</td>\n",
       "      <td>2023-12-22</td>\n",
       "      <td>Иск (заявление, жалоба) УДОВЛЕТВОРЕН ЧАСТИЧНО</td>\n",
       "      <td>&lt;данные изъяты&gt; (59RS0002-01-2023-000891-31) Р...</td>\n",
       "      <td>Ясно</td>\n",
       "    </tr>\n",
       "    <tr>\n",
       "      <th>11</th>\n",
       "      <td>Индустриальный районный суд города Перми</td>\n",
       "      <td>2023-07-05</td>\n",
       "      <td>2024-05-13</td>\n",
       "      <td>Иск (заявление, жалоба) УДОВЛЕТВОРЕН ЧАСТИЧНО</td>\n",
       "      <td>&lt;данные изъяты&gt; (59RS0002-01-2023-003156-26) К...</td>\n",
       "      <td>Горизонт</td>\n",
       "    </tr>\n",
       "  </tbody>\n",
       "</table>\n",
       "</div>"
      ],
      "text/plain": [
       "                                  court_name entry_date result_date  \\\n",
       "1   Индустриальный районный суд города Перми 2023-07-28  2024-04-24   \n",
       "2   Индустриальный районный суд города Перми 2023-03-23  2023-12-12   \n",
       "5   Индустриальный районный суд города Перми 2023-10-17  2024-02-26   \n",
       "9   Индустриальный районный суд города Перми 2023-02-28  2023-12-22   \n",
       "11  Индустриальный районный суд города Перми 2023-07-05  2024-05-13   \n",
       "\n",
       "                                         decision  \\\n",
       "1   Иск (заявление, жалоба) УДОВЛЕТВОРЕН ЧАСТИЧНО   \n",
       "2            Иск (заявление, жалоба) УДОВЛЕТВОРЕН   \n",
       "5   Иск (заявление, жалоба) УДОВЛЕТВОРЕН ЧАСТИЧНО   \n",
       "9   Иск (заявление, жалоба) УДОВЛЕТВОРЕН ЧАСТИЧНО   \n",
       "11  Иск (заявление, жалоба) УДОВЛЕТВОРЕН ЧАСТИЧНО   \n",
       "\n",
       "                                                 text developer_name  \n",
       "1   <данные изъяты> (59RS0002-01-2023-003521-95) К...        ИнГрупп  \n",
       "2   <данные изъяты> (59RS0002-01-2023-001310-35) Р...      ОрсоГрупп  \n",
       "5   <данные изъяты> <данные изъяты> РЕШЕНИЕ Именем...          Терра  \n",
       "9   <данные изъяты> (59RS0002-01-2023-000891-31) Р...           Ясно  \n",
       "11  <данные изъяты> (59RS0002-01-2023-003156-26) К...       Горизонт  "
      ]
     },
     "execution_count": 25,
     "metadata": {},
     "output_type": "execute_result"
    }
   ],
   "source": [
    "filtered_df[filtered_df['developer_name'].notna()].head(5)"
   ]
  },
  {
   "cell_type": "markdown",
   "id": "46a801df-d950-4bf4-954e-2bdbebde89b6",
   "metadata": {},
   "source": [
    "#### Шаг 3.2. Определяем количество комнат в квартирах"
   ]
  },
  {
   "cell_type": "code",
   "execution_count": 26,
   "id": "1085bfd3-f6d0-434c-9139-73b998bf6d8b",
   "metadata": {},
   "outputs": [
    {
     "data": {
      "text/html": [
       "<div>\n",
       "<style scoped>\n",
       "    .dataframe tbody tr th:only-of-type {\n",
       "        vertical-align: middle;\n",
       "    }\n",
       "\n",
       "    .dataframe tbody tr th {\n",
       "        vertical-align: top;\n",
       "    }\n",
       "\n",
       "    .dataframe thead th {\n",
       "        text-align: right;\n",
       "    }\n",
       "</style>\n",
       "<table border=\"1\" class=\"dataframe\">\n",
       "  <thead>\n",
       "    <tr style=\"text-align: right;\">\n",
       "      <th></th>\n",
       "      <th>court_name</th>\n",
       "      <th>entry_date</th>\n",
       "      <th>result_date</th>\n",
       "      <th>decision</th>\n",
       "      <th>text</th>\n",
       "      <th>developer_name</th>\n",
       "      <th>rooms</th>\n",
       "    </tr>\n",
       "  </thead>\n",
       "  <tbody>\n",
       "    <tr>\n",
       "      <th>10</th>\n",
       "      <td>Индустриальный районный суд города Перми</td>\n",
       "      <td>2024-02-29</td>\n",
       "      <td>2024-10-04</td>\n",
       "      <td>Иск (заявление, жалоба) УДОВЛЕТВОРЕН ЧАСТИЧНО</td>\n",
       "      <td>&lt;данные изъяты&gt; (59RS0002-01-2024-001391-02) Р...</td>\n",
       "      <td>None</td>\n",
       "      <td>1</td>\n",
       "    </tr>\n",
       "    <tr>\n",
       "      <th>15</th>\n",
       "      <td>Дзержинский районный суд г. Перми</td>\n",
       "      <td>2024-01-09</td>\n",
       "      <td>2024-07-22</td>\n",
       "      <td>Иск (заявление, жалоба) УДОВЛЕТВОРЕН ЧАСТИЧНО</td>\n",
       "      <td>&lt;данные изъяты&gt; Уникальный идентификатор дела ...</td>\n",
       "      <td>None</td>\n",
       "      <td>1</td>\n",
       "    </tr>\n",
       "    <tr>\n",
       "      <th>22</th>\n",
       "      <td>Дзержинский районный суд г. Перми</td>\n",
       "      <td>2024-03-22</td>\n",
       "      <td>2024-09-04</td>\n",
       "      <td>Иск (заявление, жалоба) УДОВЛЕТВОРЕН ЧАСТИЧНО</td>\n",
       "      <td>&lt;данные изъяты&gt; Уникальный идентификатор дела ...</td>\n",
       "      <td>None</td>\n",
       "      <td>1</td>\n",
       "    </tr>\n",
       "    <tr>\n",
       "      <th>23</th>\n",
       "      <td>Дзержинский районный суд г. Перми</td>\n",
       "      <td>2023-01-24</td>\n",
       "      <td>2024-01-19</td>\n",
       "      <td>Иск (заявление, жалоба) УДОВЛЕТВОРЕН ЧАСТИЧНО</td>\n",
       "      <td>&lt;данные изъяты&gt; (2-1139/2023) &lt;данные изъяты&gt; ...</td>\n",
       "      <td>None</td>\n",
       "      <td>2</td>\n",
       "    </tr>\n",
       "    <tr>\n",
       "      <th>24</th>\n",
       "      <td>Дзержинский районный суд г. Перми</td>\n",
       "      <td>2022-12-27</td>\n",
       "      <td>2024-02-08</td>\n",
       "      <td>Иск (заявление, жалоба) УДОВЛЕТВОРЕН ЧАСТИЧНО</td>\n",
       "      <td>&lt;данные изъяты&gt; (2-902/2023) &lt;данные изъяты&gt; Р...</td>\n",
       "      <td>None</td>\n",
       "      <td>1</td>\n",
       "    </tr>\n",
       "  </tbody>\n",
       "</table>\n",
       "</div>"
      ],
      "text/plain": [
       "                                  court_name entry_date result_date  \\\n",
       "10  Индустриальный районный суд города Перми 2024-02-29  2024-10-04   \n",
       "15         Дзержинский районный суд г. Перми 2024-01-09  2024-07-22   \n",
       "22         Дзержинский районный суд г. Перми 2024-03-22  2024-09-04   \n",
       "23         Дзержинский районный суд г. Перми 2023-01-24  2024-01-19   \n",
       "24         Дзержинский районный суд г. Перми 2022-12-27  2024-02-08   \n",
       "\n",
       "                                         decision  \\\n",
       "10  Иск (заявление, жалоба) УДОВЛЕТВОРЕН ЧАСТИЧНО   \n",
       "15  Иск (заявление, жалоба) УДОВЛЕТВОРЕН ЧАСТИЧНО   \n",
       "22  Иск (заявление, жалоба) УДОВЛЕТВОРЕН ЧАСТИЧНО   \n",
       "23  Иск (заявление, жалоба) УДОВЛЕТВОРЕН ЧАСТИЧНО   \n",
       "24  Иск (заявление, жалоба) УДОВЛЕТВОРЕН ЧАСТИЧНО   \n",
       "\n",
       "                                                 text developer_name  rooms  \n",
       "10  <данные изъяты> (59RS0002-01-2024-001391-02) Р...           None      1  \n",
       "15  <данные изъяты> Уникальный идентификатор дела ...           None      1  \n",
       "22  <данные изъяты> Уникальный идентификатор дела ...           None      1  \n",
       "23  <данные изъяты> (2-1139/2023) <данные изъяты> ...           None      2  \n",
       "24  <данные изъяты> (2-902/2023) <данные изъяты> Р...           None      1  "
      ]
     },
     "execution_count": 26,
     "metadata": {},
     "output_type": "execute_result"
    }
   ],
   "source": [
    "filtered_df['rooms'] = filtered_df['text'].apply(extract_rooms_number)\n",
    "filtered_df['rooms'] = filtered_df['rooms'].astype('Int64')\n",
    "filtered_df[filtered_df['rooms'].notna()].head(5)"
   ]
  },
  {
   "cell_type": "markdown",
   "id": "0676cde0-c023-49dd-ac96-ec8fe519bbf7",
   "metadata": {},
   "source": [
    "#### Шаг 3.3. Определяем площадь квартир"
   ]
  },
  {
   "cell_type": "code",
   "execution_count": 27,
   "id": "93df6f72-0e71-496d-bb4d-231de729d39d",
   "metadata": {},
   "outputs": [
    {
     "data": {
      "text/html": [
       "<div>\n",
       "<style scoped>\n",
       "    .dataframe tbody tr th:only-of-type {\n",
       "        vertical-align: middle;\n",
       "    }\n",
       "\n",
       "    .dataframe tbody tr th {\n",
       "        vertical-align: top;\n",
       "    }\n",
       "\n",
       "    .dataframe thead th {\n",
       "        text-align: right;\n",
       "    }\n",
       "</style>\n",
       "<table border=\"1\" class=\"dataframe\">\n",
       "  <thead>\n",
       "    <tr style=\"text-align: right;\">\n",
       "      <th></th>\n",
       "      <th>court_name</th>\n",
       "      <th>entry_date</th>\n",
       "      <th>result_date</th>\n",
       "      <th>decision</th>\n",
       "      <th>text</th>\n",
       "      <th>developer_name</th>\n",
       "      <th>rooms</th>\n",
       "      <th>area</th>\n",
       "    </tr>\n",
       "  </thead>\n",
       "  <tbody>\n",
       "    <tr>\n",
       "      <th>1</th>\n",
       "      <td>Индустриальный районный суд города Перми</td>\n",
       "      <td>2023-07-28</td>\n",
       "      <td>2024-04-24</td>\n",
       "      <td>Иск (заявление, жалоба) УДОВЛЕТВОРЕН ЧАСТИЧНО</td>\n",
       "      <td>&lt;данные изъяты&gt; (59RS0002-01-2023-003521-95) К...</td>\n",
       "      <td>ИнГрупп</td>\n",
       "      <td>&lt;NA&gt;</td>\n",
       "      <td>954.00</td>\n",
       "    </tr>\n",
       "    <tr>\n",
       "      <th>3</th>\n",
       "      <td>Индустриальный районный суд города Перми</td>\n",
       "      <td>2024-05-15</td>\n",
       "      <td>2024-10-22</td>\n",
       "      <td>Иск (заявление, жалоба) УДОВЛЕТВОРЕН ЧАСТИЧНО</td>\n",
       "      <td>&lt;данные изъяты&gt; - 2547/2024 ( 59RS0002-01-2024...</td>\n",
       "      <td>None</td>\n",
       "      <td>&lt;NA&gt;</td>\n",
       "      <td>44.60</td>\n",
       "    </tr>\n",
       "    <tr>\n",
       "      <th>4</th>\n",
       "      <td>Индустриальный районный суд города Перми</td>\n",
       "      <td>2024-01-29</td>\n",
       "      <td>2024-06-26</td>\n",
       "      <td>Иск (заявление, жалоба) УДОВЛЕТВОРЕН ЧАСТИЧНО</td>\n",
       "      <td>&lt;данные изъяты&gt; (59RS0002-01-2024-000562-64) Р...</td>\n",
       "      <td>None</td>\n",
       "      <td>&lt;NA&gt;</td>\n",
       "      <td>56.60</td>\n",
       "    </tr>\n",
       "    <tr>\n",
       "      <th>5</th>\n",
       "      <td>Индустриальный районный суд города Перми</td>\n",
       "      <td>2023-10-17</td>\n",
       "      <td>2024-02-26</td>\n",
       "      <td>Иск (заявление, жалоба) УДОВЛЕТВОРЕН ЧАСТИЧНО</td>\n",
       "      <td>&lt;данные изъяты&gt; &lt;данные изъяты&gt; РЕШЕНИЕ Именем...</td>\n",
       "      <td>Терра</td>\n",
       "      <td>&lt;NA&gt;</td>\n",
       "      <td>45.79</td>\n",
       "    </tr>\n",
       "    <tr>\n",
       "      <th>7</th>\n",
       "      <td>Индустриальный районный суд города Перми</td>\n",
       "      <td>2024-01-09</td>\n",
       "      <td>2024-04-24</td>\n",
       "      <td>Иск (заявление, жалоба) УДОВЛЕТВОРЕН ЧАСТИЧНО</td>\n",
       "      <td>&lt;данные изъяты&gt; (59RS0002-01-2024-000032-05) Р...</td>\n",
       "      <td>None</td>\n",
       "      <td>&lt;NA&gt;</td>\n",
       "      <td>1.00</td>\n",
       "    </tr>\n",
       "  </tbody>\n",
       "</table>\n",
       "</div>"
      ],
      "text/plain": [
       "                                 court_name entry_date result_date  \\\n",
       "1  Индустриальный районный суд города Перми 2023-07-28  2024-04-24   \n",
       "3  Индустриальный районный суд города Перми 2024-05-15  2024-10-22   \n",
       "4  Индустриальный районный суд города Перми 2024-01-29  2024-06-26   \n",
       "5  Индустриальный районный суд города Перми 2023-10-17  2024-02-26   \n",
       "7  Индустриальный районный суд города Перми 2024-01-09  2024-04-24   \n",
       "\n",
       "                                        decision  \\\n",
       "1  Иск (заявление, жалоба) УДОВЛЕТВОРЕН ЧАСТИЧНО   \n",
       "3  Иск (заявление, жалоба) УДОВЛЕТВОРЕН ЧАСТИЧНО   \n",
       "4  Иск (заявление, жалоба) УДОВЛЕТВОРЕН ЧАСТИЧНО   \n",
       "5  Иск (заявление, жалоба) УДОВЛЕТВОРЕН ЧАСТИЧНО   \n",
       "7  Иск (заявление, жалоба) УДОВЛЕТВОРЕН ЧАСТИЧНО   \n",
       "\n",
       "                                                text developer_name  rooms  \\\n",
       "1  <данные изъяты> (59RS0002-01-2023-003521-95) К...        ИнГрупп   <NA>   \n",
       "3  <данные изъяты> - 2547/2024 ( 59RS0002-01-2024...           None   <NA>   \n",
       "4  <данные изъяты> (59RS0002-01-2024-000562-64) Р...           None   <NA>   \n",
       "5  <данные изъяты> <данные изъяты> РЕШЕНИЕ Именем...          Терра   <NA>   \n",
       "7  <данные изъяты> (59RS0002-01-2024-000032-05) Р...           None   <NA>   \n",
       "\n",
       "     area  \n",
       "1  954.00  \n",
       "3   44.60  \n",
       "4   56.60  \n",
       "5   45.79  \n",
       "7    1.00  "
      ]
     },
     "execution_count": 27,
     "metadata": {},
     "output_type": "execute_result"
    }
   ],
   "source": [
    "filtered_df['area'] = filtered_df['text'].apply(extract_apartment_area)\n",
    "filtered_df['area'] = filtered_df['area']\n",
    "filtered_df[filtered_df['area'].notna()].head(5)"
   ]
  },
  {
   "cell_type": "markdown",
   "id": "386a518b-4fce-4a77-8c83-b2603fd27b1f",
   "metadata": {},
   "source": [
    "#### Шаг 3.3. Определяем сумму требований"
   ]
  },
  {
   "cell_type": "code",
   "execution_count": 28,
   "id": "911ee272-742d-4fa2-9065-93a7a572c768",
   "metadata": {},
   "outputs": [],
   "source": [
    "# cписок ключевых слов: расходы на экспертизу\n",
    "expert_costs_keywords = ['проведение экспертизы', 'услуг специалиста', 'услуг эксперта', 'услуги специалиста',\n",
    "                         'расходы по экспертизе', 'услуги эксперта', 'проведение оценки', 'расходы по оплате экспертизы',\n",
    "                        'подготовке заключения', 'экспертных услуг', 'затрат на проведение', 'подготовки экспертного заключения',\n",
    "                        'подготовки заключения', 'судебные расходы по оплате оценки', 'расходов по оплате отчета',\n",
    "                         'проведением экспертизы', 'заключения эксперта', 'за экспертизу истец оплатил']\n",
    "expert_costs_exclude = ['снизить']\n",
    "\n",
    "# cписок ключевых слов: расходы на претензию\n",
    "pretrial_claim_costs_keywords = ['на подготовку', 'судебные расходы на составление претензии']\n",
    "pretrial_claim_costs_exclude = ['заключения', 'отчета']\n",
    "\n",
    "# cписок ключевых слов: расходы на юриста\n",
    "laweyr_costs_keywords = ['представителя', 'судебные расходы по оплате услуг', 'судебные расходы по оплате юридических услуг',\n",
    "                         'судебные расходы на оплату услуг', 'платой юридических услуг']\n",
    "laweyr_costs_exclude = ['неустойка', 'подготовку претензии', 'с учетом требований разумности', 'не должен превышать']\n",
    "\n",
    "# cписок ключевых слов: судебные расходы\n",
    "court_costs_keywords = ['судебные расходы']\n",
    "court_costs_exclude = ['судебные расходы по оплате оценки', 'судебные расходы на составление претензии', 'судебные расходы по оплате услуг',\n",
    "                        'судебные расходы по оплате юридических услуг', 'судебные расходы на оплату услуг', 'судебные расходы по оплате экспертизы']\n",
    "\n",
    "# cписок ключевых слов: компенсация за дефекты\n",
    "defect_compensation_keywords = ['недостатков', 'дефектов', 'уменьшения цены договора', 'возмещение ущерба', 'возмещения ущерба', 'соразмерном уменьшении цены']\n",
    "defect_compensation_exclude = ['%', 'за каждый день', 'по день фактической', 'исполнению', 'исполнение' , 'выплатой ответчиком', 'с дата по дата']\n",
    "\n",
    "\n",
    "# cписок ключевых слов: компенсация за моральный вред\n",
    "moral_damage_keywords = ['морального вреда']\n",
    "moral_damage_exclude = ['соразмерной', 'снизить']\n",
    "\n",
    "# cписок ключевых слов: компенсация за неустойку\n",
    "liquidated_keywords = ['неустойку']\n",
    "liquidated_exclude = ['за каждый день', '% от суммы', 'исходя из расчета', 'отсрочка', 'отсрочку']\n",
    "\n",
    "# cписок ключевых слов: компенсация за штраф\n",
    "penalty_keywords = ['штраф']\n",
    "penalty_exclude = ['несоразмерен', '% от присужденной', 'снизить', 'отсрочка', 'отсрочку']\n",
    "\n",
    "# ограничение для поиска в тексте решения\n",
    "before_keywords_demand = ['решил:', 'р е ш и л:', 'суд решил :', '194-199', '194 - 199', '194–199', '194-198', '194–198', '194 - 198', '194 – 198', '194 – 199']\n",
    "after_keywords_demand = ['письменной претензией', 'направлена претензия', 'направил ответчику претензию с требовани', 'претензию с требовани', 'направлена в адрес ответчика претензия']\n",
    "\n",
    "before_keywords_recovery = ['решение суда в части', 'решение в части', 'исполненной части']\n",
    "after_keywords_recovery = ['решил:', 'р е ш и л:', 'суд решил :', '194-199', '194 - 199', '194–199', '194-198', '194–198', '194 - 198', '194 – 198', '194 – 199']"
   ]
  },
  {
   "cell_type": "code",
   "execution_count": 29,
   "id": "9a46d694-58a1-4307-8602-bd6f85da0012",
   "metadata": {},
   "outputs": [],
   "source": [
    "filtered_df['expert_costs_demand'] = filtered_df['text'].apply(\n",
    "    extract_amount, \n",
    "    start_str_list=expert_costs_keywords, \n",
    "    before_str_list=before_keywords_demand,\n",
    "    exclude=expert_costs_exclude\n",
    ")"
   ]
  },
  {
   "cell_type": "code",
   "execution_count": 30,
   "id": "3563fa22-e7a3-40a8-ac1a-7cfdc5aef288",
   "metadata": {},
   "outputs": [],
   "source": [
    "filtered_df['pretrial_claim_costs_demand'] = filtered_df['text'].apply(\n",
    "    extract_amount, \n",
    "    start_str_list=pretrial_claim_costs_keywords, \n",
    "    before_str_list=before_keywords_demand, \n",
    "    exclude=pretrial_claim_costs_exclude\n",
    ")"
   ]
  },
  {
   "cell_type": "code",
   "execution_count": 31,
   "id": "c3adce1e-318f-429d-9ca8-bac40fdbb70d",
   "metadata": {},
   "outputs": [],
   "source": [
    "filtered_df['laweyr_costs_demand'] = filtered_df['text'].apply(\n",
    "    extract_amount, \n",
    "    start_str_list=laweyr_costs_keywords, \n",
    "    before_str_list=before_keywords_demand,\n",
    "    exclude=laweyr_costs_exclude\n",
    ")"
   ]
  },
  {
   "cell_type": "code",
   "execution_count": 32,
   "id": "0d8a5a7e-7503-41ea-acda-c0a0998a2544",
   "metadata": {},
   "outputs": [
    {
     "name": "stdout",
     "output_type": "stream",
     "text": [
      "Ошибка: could not convert string to float: '73.080.53'\n"
     ]
    }
   ],
   "source": [
    "filtered_df['defect_compensation_demand'] = filtered_df['text'].apply(\n",
    "    extract_amount, \n",
    "    start_str_list=defect_compensation_keywords, \n",
    "    before_str_list=before_keywords_demand,\n",
    "    exclude=defect_compensation_exclude,\n",
    "    return_max=True\n",
    ")"
   ]
  },
  {
   "cell_type": "code",
   "execution_count": 33,
   "id": "141a4604-55df-47d6-9ce1-9d32c9f6dd29",
   "metadata": {},
   "outputs": [],
   "source": [
    "filtered_df['moral_damage_demand'] = filtered_df['text'].apply(\n",
    "    extract_amount, \n",
    "    start_str_list=moral_damage_keywords, \n",
    "    before_str_list=before_keywords_demand, \n",
    "    exclude=moral_damage_exclude\n",
    ")"
   ]
  },
  {
   "cell_type": "markdown",
   "id": "ba97b96e-67a5-419f-b6b6-8e15854ed0b2",
   "metadata": {},
   "source": [
    "#### Шаг 3.4. Определяем сумму к взысканию"
   ]
  },
  {
   "cell_type": "code",
   "execution_count": 34,
   "id": "9479d1a0-a52c-4438-8192-e8df499b0c2c",
   "metadata": {},
   "outputs": [],
   "source": [
    "filtered_df['expert_costs_recovery'] = filtered_df['text'].apply(\n",
    "    extract_amount, \n",
    "    start_str_list=expert_costs_keywords, \n",
    "    after_str_list=after_keywords_recovery,\n",
    "    exclude=expert_costs_exclude,\n",
    "    calculate_sum=False\n",
    ")"
   ]
  },
  {
   "cell_type": "code",
   "execution_count": 35,
   "id": "b89bdeaa-f756-41d7-b186-4c1bf55ead63",
   "metadata": {},
   "outputs": [],
   "source": [
    "filtered_df['pretrial_claim_costs_recovery'] = filtered_df['text'].apply(\n",
    "    extract_amount, \n",
    "    start_str_list=pretrial_claim_costs_keywords, \n",
    "    after_str_list=after_keywords_recovery,\n",
    "    calculate_sum=False,\n",
    "    exclude=pretrial_claim_costs_exclude\n",
    ")"
   ]
  },
  {
   "cell_type": "code",
   "execution_count": 36,
   "id": "411356c0-fe04-4dbd-b5ea-bb20187919b8",
   "metadata": {},
   "outputs": [],
   "source": [
    "filtered_df['laweyr_costs_recovery'] = filtered_df['text'].apply(\n",
    "    extract_amount, \n",
    "    start_str_list=laweyr_costs_keywords, \n",
    "    after_str_list=after_keywords_recovery,\n",
    "    calculate_sum=False\n",
    ")"
   ]
  },
  {
   "cell_type": "code",
   "execution_count": 37,
   "id": "0c331336-569c-44f6-a791-99ff2bc0fceb",
   "metadata": {},
   "outputs": [],
   "source": [
    "filtered_df['court_costs_recovery'] = filtered_df['text'].apply(\n",
    "    extract_amount, \n",
    "    start_str_list=court_costs_keywords, \n",
    "    after_str_list=after_keywords_recovery,\n",
    "    exclude=court_costs_exclude,\n",
    "    calculate_sum=False\n",
    ")"
   ]
  },
  {
   "cell_type": "code",
   "execution_count": 38,
   "id": "361936d0-0862-4443-9592-474208d69cf9",
   "metadata": {
    "scrolled": true
   },
   "outputs": [],
   "source": [
    "filtered_df['defect_compensation_recovery'] = filtered_df['text'].apply(\n",
    "    extract_amount, \n",
    "    start_str_list=defect_compensation_keywords, \n",
    "    after_str_list=after_keywords_recovery,\n",
    "    exclude=defect_compensation_exclude,\n",
    "    calculate_sum=True\n",
    ")"
   ]
  },
  {
   "cell_type": "code",
   "execution_count": 39,
   "id": "8bdd06e8-3c74-4e3a-9706-3630d53c545d",
   "metadata": {},
   "outputs": [],
   "source": [
    "filtered_df['moral_damage_recovery'] = filtered_df['text'].apply(\n",
    "    extract_amount, \n",
    "    start_str_list=moral_damage_keywords, \n",
    "    after_str_list=after_keywords_recovery,\n",
    "    calculate_sum=True,\n",
    "    exclude=moral_damage_exclude\n",
    ")"
   ]
  },
  {
   "cell_type": "code",
   "execution_count": 40,
   "id": "a4c1a824-cef2-4a51-8bee-e12cbea209fa",
   "metadata": {},
   "outputs": [],
   "source": [
    "filtered_df['liquidated_recovery'] = filtered_df['text'].apply(\n",
    "    extract_amount, \n",
    "    start_str_list=liquidated_keywords, \n",
    "    after_str_list=after_keywords_recovery,\n",
    "    calculate_sum=True,\n",
    "    exclude=liquidated_exclude\n",
    ")"
   ]
  },
  {
   "cell_type": "code",
   "execution_count": 41,
   "id": "49068ce6-a0f0-4578-994d-94c5ead83218",
   "metadata": {},
   "outputs": [],
   "source": [
    "filtered_df['penalty_recovery'] = filtered_df['text'].apply(\n",
    "    extract_amount, \n",
    "    start_str_list=penalty_keywords,    \n",
    "    after_str_list=after_keywords_recovery,\n",
    "    calculate_sum=True,\n",
    "    exclude=penalty_exclude\n",
    ")"
   ]
  },
  {
   "cell_type": "code",
   "execution_count": 42,
   "id": "61831499-6d0c-40fb-a445-8a84df4e1c51",
   "metadata": {},
   "outputs": [
    {
     "name": "stdout",
     "output_type": "stream",
     "text": [
      "<class 'pandas.core.frame.DataFrame'>\n",
      "RangeIndex: 662 entries, 0 to 661\n",
      "Data columns (total 21 columns):\n",
      " #   Column                         Non-Null Count  Dtype         \n",
      "---  ------                         --------------  -----         \n",
      " 0   court_name                     662 non-null    object        \n",
      " 1   entry_date                     662 non-null    datetime64[ns]\n",
      " 2   result_date                    662 non-null    datetime64[ns]\n",
      " 3   decision                       662 non-null    object        \n",
      " 4   text                           662 non-null    object        \n",
      " 5   developer_name                 353 non-null    object        \n",
      " 6   rooms                          265 non-null    Int64         \n",
      " 7   area                           374 non-null    float64       \n",
      " 8   expert_costs_demand            420 non-null    float64       \n",
      " 9   pretrial_claim_costs_demand    53 non-null     float64       \n",
      " 10  laweyr_costs_demand            399 non-null    float64       \n",
      " 11  defect_compensation_demand     474 non-null    float64       \n",
      " 12  moral_damage_demand            613 non-null    float64       \n",
      " 13  expert_costs_recovery          219 non-null    float64       \n",
      " 14  pretrial_claim_costs_recovery  1 non-null      float64       \n",
      " 15  laweyr_costs_recovery          363 non-null    float64       \n",
      " 16  court_costs_recovery           32 non-null     float64       \n",
      " 17  defect_compensation_recovery   327 non-null    float64       \n",
      " 18  moral_damage_recovery          601 non-null    float64       \n",
      " 19  liquidated_recovery            462 non-null    float64       \n",
      " 20  penalty_recovery               495 non-null    float64       \n",
      "dtypes: Int64(1), datetime64[ns](2), float64(14), object(4)\n",
      "memory usage: 109.4+ KB\n"
     ]
    }
   ],
   "source": [
    "filtered_df.info()"
   ]
  },
  {
   "cell_type": "markdown",
   "id": "56e7abc2-7519-4035-8cfc-5eeb1d44068d",
   "metadata": {},
   "source": [
    "### Шаг 4. <a id=\"anomaly_processing\">Обработка аномалий</a> "
   ]
  },
  {
   "cell_type": "markdown",
   "id": "98a1fd9f-8e1d-4a63-90e9-ca49c332efbf",
   "metadata": {},
   "source": [
    "**Задача:** сначала необходимо отфильтровать судебные решения, в которых взысканная сумма компенсации за дефекты равна или превышает заявленную. \n",
    "Это позволит исключить:\n",
    "* Решения, не содержащие взыскания компенсации за дефекты (например, когда спор касался только неустойки за задержку сдачи квартиры).\n",
    "* Случаи, в которых требуемая сумма была удовлетворена полностью (что указывает на отсутствие независимой экспертизы)."
   ]
  },
  {
   "cell_type": "code",
   "execution_count": 43,
   "id": "0c92fa43-089a-45c9-8613-1a8112a4f7d7",
   "metadata": {},
   "outputs": [
    {
     "name": "stdout",
     "output_type": "stream",
     "text": [
      "<class 'pandas.core.frame.DataFrame'>\n",
      "Int64Index: 264 entries, 3 to 656\n",
      "Data columns (total 21 columns):\n",
      " #   Column                         Non-Null Count  Dtype         \n",
      "---  ------                         --------------  -----         \n",
      " 0   court_name                     264 non-null    object        \n",
      " 1   entry_date                     264 non-null    datetime64[ns]\n",
      " 2   result_date                    264 non-null    datetime64[ns]\n",
      " 3   decision                       264 non-null    object        \n",
      " 4   text                           264 non-null    object        \n",
      " 5   developer_name                 120 non-null    object        \n",
      " 6   rooms                          84 non-null     Int64         \n",
      " 7   area                           161 non-null    float64       \n",
      " 8   expert_costs_demand            248 non-null    float64       \n",
      " 9   pretrial_claim_costs_demand    36 non-null     float64       \n",
      " 10  laweyr_costs_demand            163 non-null    float64       \n",
      " 11  defect_compensation_demand     264 non-null    float64       \n",
      " 12  moral_damage_demand            261 non-null    float64       \n",
      " 13  expert_costs_recovery          163 non-null    float64       \n",
      " 14  pretrial_claim_costs_recovery  0 non-null      float64       \n",
      " 15  laweyr_costs_recovery          144 non-null    float64       \n",
      " 16  court_costs_recovery           19 non-null     float64       \n",
      " 17  defect_compensation_recovery   264 non-null    float64       \n",
      " 18  moral_damage_recovery          256 non-null    float64       \n",
      " 19  liquidated_recovery            165 non-null    float64       \n",
      " 20  penalty_recovery               212 non-null    float64       \n",
      "dtypes: Int64(1), datetime64[ns](2), float64(14), object(4)\n",
      "memory usage: 45.6+ KB\n"
     ]
    }
   ],
   "source": [
    "filtered_df = filtered_df.loc[filtered_df['defect_compensation_recovery'] < filtered_df['defect_compensation_demand']]\n",
    "filtered_df.info()"
   ]
  },
  {
   "cell_type": "markdown",
   "id": "a5bdbf4a-cc26-4a01-b6ec-97e56c68740b",
   "metadata": {},
   "source": [
    "**Задача:** проверим излеченные суммы на предмет аномалий"
   ]
  },
  {
   "cell_type": "code",
   "execution_count": 44,
   "id": "4bfbc563-b1e3-41ed-8ab5-555b49f8d31f",
   "metadata": {},
   "outputs": [
    {
     "data": {
      "image/png": "[encoded data removed]",
      "text/plain": [
       "<Figure size 1600x600 with 1 Axes>"
      ]
     },
     "metadata": {},
     "output_type": "display_data"
    }
   ],
   "source": [
    "# преобразование DataFrame в \"длинный\" формат\n",
    "df_long = filtered_df.loc[:, 'expert_costs_demand':'penalty_recovery'].melt(var_name='сolumns', value_name='values')\n",
    "\n",
    "# построение boxplot\n",
    "plt.figure(figsize=(16, 6))\n",
    "sns.boxplot(x='сolumns', y='values', data=df_long)\n",
    "plt.title('Суммы из решения суда')\n",
    "plt.xlabel('Категория')\n",
    "plt.ylabel('Значение в руб.')\n",
    "plt.xticks(rotation=45, ha='right')\n",
    "plt.ylim(1.0, 500000.0)\n",
    "plt.show()"
   ]
  },
  {
   "cell_type": "markdown",
   "id": "4581c31f-2f34-4c24-aaf4-f4889dca322b",
   "metadata": {},
   "source": [
    "**Вывод:** выбросы проявляются по-разному в зависимости от типа требований: у некоторых значений наблюдаются как верхние, так и нижние выбросы, а у других — только с одной стороны.\n",
    "Так как диапазон значений значительно варьируется для разных категорий требований, проверим распределение в меньшем масштабе."
   ]
  },
  {
   "cell_type": "code",
   "execution_count": 45,
   "id": "f99e0cea-a003-429c-87b2-b6d4ba29dc5d",
   "metadata": {},
   "outputs": [
    {
     "data": {
      "image/png": "[encoded data removed]",
      "text/plain": [
       "<Figure size 1600x600 with 1 Axes>"
      ]
     },
     "metadata": {},
     "output_type": "display_data"
    }
   ],
   "source": [
    "# построение boxplot\n",
    "plt.figure(figsize=(16, 6))\n",
    "sns.boxplot(x='сolumns', y='values', data=df_long)\n",
    "plt.title('Суммы из решения суда')\n",
    "plt.xlabel('Категория')\n",
    "plt.ylabel('Значение в руб.')\n",
    "plt.xticks(rotation=45, ha='right')\n",
    "plt.ylim(1.0, 70000.0)\n",
    "plt.show()"
   ]
  },
  {
   "cell_type": "markdown",
   "id": "1addd519-c3cd-42cb-b9bf-a0b7c1cbdd57",
   "metadata": {},
   "source": [
    "**Вывод:** теперь можно сделать выводы по крайним значениям.\n",
    "\n",
    "Границы нижних/верхних выбросов для требований за:\n",
    "* расходы на экспертизу - **25 000 / 65 000**\n",
    "* расходы на претензию - **5 000** / без выбросов более 5 000\n",
    "* расходы на представителя - без выбросов менее 4 000 / **60 000**\n",
    "* компенсация за дефекты - без выбросов менее 55 000 / **460 000**\n",
    "* компенсация за моральный вред - без выбросов менее 5 000 / **40 000**\n",
    "  \n",
    "Границы нижних/верхних выбросов для удовлетворенных сумм за:\n",
    "* расходы на экспертизу - **12 000** / без выбросов более 50 000\n",
    "* расходы на представителя - нет значения / **50 000**\n",
    "* компенсация за дефекты - нет значения / **350 000**\n",
    "* компенсация за моральный вред - без выбросов менее 2 000 / **15 000**\n",
    "* неустойка - нет значения / **80 000**\n",
    "* штраф - нет значения / **90 000**\n",
    "\n",
    "Для взысканных сумм судебных расходов и составления претензий определять границы нецелесообразно из-за небольшого количества данных."
   ]
  },
  {
   "cell_type": "markdown",
   "id": "131df343-cfdb-4dfd-b7a8-6b4db69bc4bd",
   "metadata": {},
   "source": [
    "**Задача:** следует выборочно проверить выбросы за все типы расходов и за компенсацию недостатков как основных требований. Остальное можно отфильтровать."
   ]
  },
  {
   "cell_type": "markdown",
   "id": "dcdff836-ef97-478e-82a2-8da7cfe21214",
   "metadata": {},
   "source": [
    "#### Проверка требований и взысканий расходов на экспертизу"
   ]
  },
  {
   "cell_type": "code",
   "execution_count": 46,
   "id": "dd7937ff-435e-4df6-98a2-3d3fcc2fce0c",
   "metadata": {},
   "outputs": [
    {
     "data": {
      "text/plain": [
       "Int64Index([4, 11, 18, 33, 107, 145, 614, 634], dtype='int64')"
      ]
     },
     "execution_count": 46,
     "metadata": {},
     "output_type": "execute_result"
    }
   ],
   "source": [
    "filtered_df[(filtered_df['expert_costs_demand'] < 25000) & (filtered_df['expert_costs_demand'].notna())].index"
   ]
  },
  {
   "cell_type": "code",
   "execution_count": 47,
   "id": "f1230c8a-0385-4ec3-92cc-259812ef084c",
   "metadata": {},
   "outputs": [
    {
     "name": "stdout",
     "output_type": "stream",
     "text": [
      "Проверяем фрагмент:\n",
      "проведение экспертизы по указанным реквизитам истца. указанное требование оставлено ответчиком без ответа и удовлетворен\n",
      "Проверяем фрагмент:\n",
      "проведение экспертизы путем перечисления денежных средств на указанные банковские реквизиты /л.д.6-7 т.1/. как следует и\n",
      "Проверяем фрагмент:\n",
      "услуг специалиста по экспертному исследованию составила 20000,00 руб., что подтверждается договором оказания экспертных \n",
      "Найдено значение: 20000.0\n",
      "Проверяем фрагмент:\n",
      "экспертных услуг № /л.д.32 оборот-33 т.1/, квитанцией от дд.мм.гггг /л.д.34 т.1/. из содержания искового заявления следу\n",
      "Позиции в тексте: [(20000.0, 20203)]\n",
      "Первое значение: 20000.0\n"
     ]
    },
    {
     "data": {
      "text/plain": [
       "20000.0"
      ]
     },
     "execution_count": 47,
     "metadata": {},
     "output_type": "execute_result"
    }
   ],
   "source": [
    "# тест решения суда\n",
    "test_text = filtered_df.loc[4, 'text']\n",
    "\n",
    "# применяем функцию к тексту\n",
    "result = extract_amount(test_text, start_str_list=expert_costs_keywords, before_str_list=before_keywords_demand, debug=True)\n",
    "result"
   ]
  },
  {
   "cell_type": "code",
   "execution_count": 48,
   "id": "6cb4bf6a-adfb-44db-8419-995c56570ba9",
   "metadata": {},
   "outputs": [
    {
     "name": "stdout",
     "output_type": "stream",
     "text": [
      "Проверяем фрагмент:\n",
      "проведение экспертизы в размере 15 663,67 руб., а ответчиком дд.мм.гггг выплачена сумма в размере 19 336,33 руб., то ука\n",
      "Найдено значение: 15663.67\n",
      "Проверяем фрагмент:\n",
      "заключения эксперта, что подтверждается платежным поручением № от дд.мм.гггг на сумму 19 336,33 руб. (том 1, л.д. 72,73)\n",
      "Найдено значение: 19336.33\n",
      "Проверяем фрагмент:\n",
      "заключения эксперта № сн-144 от дд.мм.гггг. согласно части 1 статьи 67 гражданского процессуального кодекса российской ф\n",
      "Проверяем фрагмент:\n",
      "заключения эксперта <данные изъяты> № от дд.мм.гггг в размере 35 000 руб., что подтверждается договором о проведении стр\n",
      "Найдено значение: 35000.0\n",
      "Проверяем фрагмент:\n",
      "заключения эксперта пропорционально выявленным недостаткам перечислены денежные средства в размере 19 336,33 руб., что п\n",
      "Найдено значение: 19336.33\n",
      "Позиции в тексте: [(19336.33, 13568), (35000.0, 32757), (19336.33, 33230), (15663.67, 33791)]\n",
      "Первое значение: 19336.33\n"
     ]
    },
    {
     "data": {
      "text/plain": [
       "19336.33"
      ]
     },
     "execution_count": 48,
     "metadata": {},
     "output_type": "execute_result"
    }
   ],
   "source": [
    "# тест решения суда\n",
    "test_text = filtered_df.loc[11, 'text']\n",
    "\n",
    "# применяем функцию к тексту\n",
    "result = extract_amount(test_text, start_str_list=expert_costs_keywords, before_str_list=before_keywords_demand, debug=True)\n",
    "result"
   ]
  },
  {
   "cell_type": "code",
   "execution_count": 49,
   "id": "a7c4727b-dc25-4e19-91be-7f481ac7e703",
   "metadata": {},
   "outputs": [
    {
     "data": {
      "text/plain": [
       "35000.0"
      ]
     },
     "execution_count": 49,
     "metadata": {},
     "output_type": "execute_result"
    }
   ],
   "source": [
    "15663.67 + 19336.33"
   ]
  },
  {
   "cell_type": "code",
   "execution_count": 50,
   "id": "7dc21637-0ffe-41f4-a597-bbc25a41ede0",
   "metadata": {},
   "outputs": [],
   "source": [
    "# здесь в тексте речь о частичной оплате и требовании остатка, а общая сумма равно 35 000 руб.\n",
    "filtered_df.loc[11, 'expert_costs_demand'] = 35000.0"
   ]
  },
  {
   "cell_type": "code",
   "execution_count": 51,
   "id": "06535454-50f2-4b4c-8249-dd55692cd538",
   "metadata": {},
   "outputs": [
    {
     "name": "stdout",
     "output_type": "stream",
     "text": [
      "Проверяем фрагмент:\n",
      "услуг специалиста по оценке стоимости замены оконных конструкций. в обоснование иска указано, что дата между ооо «пермск\n",
      "Проверяем фрагмент:\n",
      "услуг специалиста составили 6500 рублей, что подтверждается договором возмездного оказания услуг по дата. ссылаясь на по\n",
      "Найдено значение: 6500.0\n",
      "Проверяем фрагмент:\n",
      "услуг специалиста по оценке стоимости замены оконных конструкций 6500 рублей. истцы в судебное заседание не явились, о в\n",
      "Найдено значение: 6500.0\n",
      "Проверяем фрагмент:\n",
      "услуг специалиста по оценке стоимости замены оконных конструкций в размере 6500 рублей. указанная претензия направлена в\n",
      "Найдено значение: 6500.0\n",
      "Проверяем фрагмент:\n",
      "услуг специалиста по оценке стоимости замены оконных конструкций в размере 6500 рублей, которые являются судебными издер\n",
      "Найдено значение: 6500.0\n",
      "Проверяем фрагмент:\n",
      "услуги специалиста в размере 6500 рублей, поскольку участник долевого строительства вправе предъявить к застройщику треб\n",
      "Найдено значение: 6500.0\n",
      "Позиции в тексте: [(6500.0, 2680), (6500.0, 3188), (6500.0, 5108), (6500.0, 12338), (6500.0, 31058)]\n",
      "Первое значение: 6500.0\n"
     ]
    },
    {
     "data": {
      "text/plain": [
       "6500.0"
      ]
     },
     "execution_count": 51,
     "metadata": {},
     "output_type": "execute_result"
    }
   ],
   "source": [
    "# тест решения суда\n",
    "test_text = filtered_df.loc[18, 'text']\n",
    "\n",
    "# применяем функцию к тексту\n",
    "result = extract_amount(test_text, start_str_list=expert_costs_keywords, before_str_list=before_keywords_demand, debug=True)\n",
    "result"
   ]
  },
  {
   "cell_type": "code",
   "execution_count": 52,
   "id": "62760194-2ebb-4172-8445-ba23331a5105",
   "metadata": {},
   "outputs": [
    {
     "name": "stdout",
     "output_type": "stream",
     "text": [
      "Проверяем фрагмент:\n",
      "заключения эксперта №э/23 от дата составляет 12 530,50 руб. поскольку вышеуказанные недостатки не являются таковыми, так\n",
      "Найдено значение: 12530.5\n",
      "Позиции в тексте: [(12530.5, 7284)]\n",
      "Первое значение: 12530.5\n"
     ]
    },
    {
     "data": {
      "text/plain": [
       "12530.5"
      ]
     },
     "execution_count": 52,
     "metadata": {},
     "output_type": "execute_result"
    }
   ],
   "source": [
    "# тест решения суда\n",
    "test_text = filtered_df.loc[33, 'text']\n",
    "\n",
    "# применяем функцию к тексту\n",
    "result = extract_amount(test_text, start_str_list=expert_costs_keywords, before_str_list=before_keywords_demand, debug=True)\n",
    "result"
   ]
  },
  {
   "cell_type": "code",
   "execution_count": 53,
   "id": "45ebcaf5-ef0a-42e6-8d79-19ed36d7207b",
   "metadata": {},
   "outputs": [
    {
     "name": "stdout",
     "output_type": "stream",
     "text": [
      "Проверяем фрагмент:\n",
      "услуг специалиста удовлетворению не подлежит, так как данные расходы не относятся к убыткам. в соответствии со ст. 98, с\n",
      "Проверяем фрагмент:\n",
      "заключения эксперта в размере 20 000 руб. дд.мм.гггг между истцом и ооо «эксперт-р» заключен договор № на выполнение раб\n",
      "Найдено значение: 20000.0\n",
      "Позиции в тексте: [(20000.0, 24948)]\n",
      "Первое значение: 20000.0\n"
     ]
    },
    {
     "data": {
      "text/plain": [
       "20000.0"
      ]
     },
     "execution_count": 53,
     "metadata": {},
     "output_type": "execute_result"
    }
   ],
   "source": [
    "# тест решения суда\n",
    "test_text = filtered_df.loc[107, 'text']\n",
    "\n",
    "# применяем функцию к тексту\n",
    "result = extract_amount(test_text, start_str_list=expert_costs_keywords, before_str_list=before_keywords_demand, debug=True)\n",
    "result"
   ]
  },
  {
   "cell_type": "code",
   "execution_count": 54,
   "id": "d9caed5a-86af-412d-b4cb-eaa00d8e6675",
   "metadata": {},
   "outputs": [
    {
     "name": "stdout",
     "output_type": "stream",
     "text": [
      "Проверяем фрагмент:\n",
      "услуг эксперта подтверждается квитанцией № от дд.мм.гггг на сумму 10 000 рублей (л.д. 25). суд учитывает, что имуществен\n",
      "Найдено значение: 10000.0\n",
      "Проверяем фрагмент:\n",
      "экспертных услуг. согласно заключения специалиста № от дд.мм.гггг в <адрес> выявлены недостатки строительных работ, указ\n",
      "Проверяем фрагмент:\n",
      "экспертных услуг. согласно заключения специалиста № от дд.мм.гггг в <адрес> выявлены недостатки строительных работ, указ\n",
      "Проверяем фрагмент:\n",
      "заключения эксперта в размере 10 000 руб. истец фио1 в судебное заседание не явился, о времени и месте судебного разбира\n",
      "Найдено значение: 10000.0\n",
      "Проверяем фрагмент:\n",
      "заключения эксперта в размере 10 000 руб. между истцом и ано «палата судебных экспертиз заключен договор на оказание усл\n",
      "Найдено значение: 10000.0\n",
      "Позиции в тексте: [(10000.0, 1901), (10000.0, 15713), (10000.0, 15993)]\n",
      "Первое значение: 10000.0\n"
     ]
    },
    {
     "data": {
      "text/plain": [
       "10000.0"
      ]
     },
     "execution_count": 54,
     "metadata": {},
     "output_type": "execute_result"
    }
   ],
   "source": [
    "# тест решения суда\n",
    "test_text = filtered_df.loc[145, 'text']\n",
    "\n",
    "# применяем функцию к тексту\n",
    "result = extract_amount(test_text, start_str_list=expert_costs_keywords, before_str_list=before_keywords_demand, debug=True)\n",
    "result"
   ]
  },
  {
   "cell_type": "code",
   "execution_count": 55,
   "id": "89021f0b-815b-4dea-baed-afe18851fcba",
   "metadata": {},
   "outputs": [
    {
     "name": "stdout",
     "output_type": "stream",
     "text": [
      "Проверяем фрагмент:\n",
      "проведение экспертизы составляет 15 000 рублей. в подтверждение исполнения вышеуказанного договора ип фио5 составлено за\n",
      "Найдено значение: 15000.0\n",
      "Проверяем фрагмент:\n",
      "расходы по оплате экспертизы в размере 15 000 рублей. на основании ст. 94 гпк рф к издержкам, связанным с рассмотрением \n",
      "Найдено значение: 15000.0\n",
      "Проверяем фрагмент:\n",
      "экспертных услуг, согласно которому исполнитель принял на себя обязательства по определению стоимости работ и материалов\n",
      "Проверяем фрагмент:\n",
      "экспертных услуг № от дд.мм.гггг, квитанция № от дд.мм.гггг подлежит частичному удовлетворению в размере 6 000 рублей, в\n",
      "Найдено значение: 6000.0\n",
      "Проверяем фрагмент:\n",
      "затрат на проведение строительно-технической экспертизы в размере 15 000 руб., уплаченных на основании договора возмездн\n",
      "Найдено значение: 15000.0\n",
      "Позиции в тексте: [(15000.0, 34299), (15000.0, 36686), (15000.0, 37353), (6000.0, 37521)]\n",
      "Первое значение: 15000.0\n"
     ]
    },
    {
     "data": {
      "text/plain": [
       "15000.0"
      ]
     },
     "execution_count": 55,
     "metadata": {},
     "output_type": "execute_result"
    }
   ],
   "source": [
    "# тест решения суда\n",
    "test_text = filtered_df.loc[614, 'text']\n",
    "\n",
    "# применяем функцию к тексту\n",
    "result = extract_amount(test_text, start_str_list=expert_costs_keywords, before_str_list=before_keywords_demand, exclude=expert_costs_exclude, debug=True)\n",
    "result"
   ]
  },
  {
   "cell_type": "code",
   "execution_count": 56,
   "id": "a7b58409-f334-4b0d-874b-9ad98a21cd7b",
   "metadata": {},
   "outputs": [
    {
     "name": "stdout",
     "output_type": "stream",
     "text": [
      "Проверяем фрагмент:\n",
      "экспертных услуг (л.д.19-20). согласно представленному в материалы дела заключению специалиста № от дд.мм.гггг стоимость\n",
      "Проверяем фрагмент:\n",
      "экспертных услуг № от дд.мм.гггг и квитанция к приходному кассовому ордеру № от дд.мм.гггг на сумму 10 000 рублей (л.д.1\n",
      "Найдено значение: 10000.0\n",
      "Проверяем фрагмент:\n",
      "заключения эксперта полежат взысканию в пользу <данные изъяты>. истцом также заявлено требования о взыскании судебных ра\n",
      "Позиции в тексте: [(10000.0, 22601)]\n",
      "Первое значение: 10000.0\n"
     ]
    },
    {
     "data": {
      "text/plain": [
       "10000.0"
      ]
     },
     "execution_count": 56,
     "metadata": {},
     "output_type": "execute_result"
    }
   ],
   "source": [
    "# тест решения суда\n",
    "test_text = filtered_df.loc[634, 'text']\n",
    "\n",
    "# применяем функцию к тексту\n",
    "result = extract_amount(test_text, start_str_list=expert_costs_keywords, before_str_list=before_keywords_demand, exclude=expert_costs_exclude, debug=True)\n",
    "result"
   ]
  },
  {
   "cell_type": "code",
   "execution_count": 57,
   "id": "b73ecaa1-f834-414c-a5dc-c8d85d0c5c22",
   "metadata": {},
   "outputs": [
    {
     "data": {
      "text/plain": [
       "Int64Index([9, 131, 255, 460], dtype='int64')"
      ]
     },
     "execution_count": 57,
     "metadata": {},
     "output_type": "execute_result"
    }
   ],
   "source": [
    "filtered_df[(filtered_df['expert_costs_demand'] > 65000) & (filtered_df['expert_costs_demand'].notna())].index"
   ]
  },
  {
   "cell_type": "code",
   "execution_count": 58,
   "id": "38ad98fb-9dc3-4f52-b52e-1dda8dd34c6e",
   "metadata": {},
   "outputs": [
    {
     "name": "stdout",
     "output_type": "stream",
     "text": [
      "Проверяем фрагмент:\n",
      "заключения эксперта ооо «проспект» в размере 223 300, 00 рублей в качестве суммы уменьшения договора. при этом ответчик \n",
      "Найдено значение: 223300.0\n",
      "Позиции в тексте: [(223300.0, 5488)]\n",
      "Первое значение: 223300.0\n"
     ]
    },
    {
     "data": {
      "text/plain": [
       "223300.0"
      ]
     },
     "execution_count": 58,
     "metadata": {},
     "output_type": "execute_result"
    }
   ],
   "source": [
    "# тест решения суда\n",
    "test_text = filtered_df.loc[9, 'text']\n",
    "\n",
    "# применяем функцию к тексту\n",
    "result = extract_amount(test_text, start_str_list=expert_costs_keywords, before_str_list=before_keywords_demand, exclude=expert_costs_exclude, debug=True)\n",
    "result"
   ]
  },
  {
   "cell_type": "code",
   "execution_count": 59,
   "id": "7361ac9a-1ba7-48ea-95f0-2f556803120f",
   "metadata": {},
   "outputs": [
    {
     "data": {
      "text/plain": [
       "expert_costs_demand               223300.0\n",
       "pretrial_claim_costs_demand            NaN\n",
       "laweyr_costs_demand                    NaN\n",
       "defect_compensation_demand        223300.0\n",
       "moral_damage_demand                25000.0\n",
       "expert_costs_recovery                  NaN\n",
       "pretrial_claim_costs_recovery          NaN\n",
       "laweyr_costs_recovery                  NaN\n",
       "court_costs_recovery                   NaN\n",
       "defect_compensation_recovery      60845.98\n",
       "moral_damage_recovery               5000.0\n",
       "liquidated_recovery              120845.98\n",
       "penalty_recovery                   20000.0\n",
       "Name: 9, dtype: object"
      ]
     },
     "execution_count": 59,
     "metadata": {},
     "output_type": "execute_result"
    }
   ],
   "source": [
    "filtered_df.loc[9, 'expert_costs_demand':'penalty_recovery']"
   ]
  },
  {
   "cell_type": "code",
   "execution_count": 60,
   "id": "b4a9b290-77d0-47db-aedc-1c5fbdee4d00",
   "metadata": {},
   "outputs": [],
   "source": [
    "# в фрагменте берется сумма за дефекты, судя по взысканным суммам расходы за экспертизу не требовали(не удовлетворили ни в каком объеме)\n",
    "filtered_df.loc[9, 'expert_costs_demand'] = np.nan"
   ]
  },
  {
   "cell_type": "code",
   "execution_count": 61,
   "id": "c408c9d8-6fd3-4503-95e8-80bbade9d060",
   "metadata": {},
   "outputs": [
    {
     "name": "stdout",
     "output_type": "stream",
     "text": [
      "Проверяем фрагмент:\n",
      "услуги специалиста в размере 35 000 руб. частью 1 статьи 88 гражданского процессуального кодекса <данные изъяты> федерац\n",
      "Найдено значение: 35000.0\n",
      "Проверяем фрагмент:\n",
      "расходы по экспертизе в размере 350 000 руб. претензия истцов оставлена застройщиком без удовлетворения. фио2, фио3 обра\n",
      "Найдено значение: 350000.0\n",
      "Проверяем фрагмент:\n",
      "заключения эксперта, производственными недостатки являются: отслоение, замятие обоев, что не соответствует п.3.67, 3.12 \n",
      "Позиции в тексте: [(350000.0, 12893), (35000.0, 30892)]\n",
      "Первое значение: 350000.0\n"
     ]
    },
    {
     "data": {
      "text/plain": [
       "350000.0"
      ]
     },
     "execution_count": 61,
     "metadata": {},
     "output_type": "execute_result"
    }
   ],
   "source": [
    "# тест решения суда\n",
    "test_text = filtered_df.loc[131, 'text']\n",
    "\n",
    "# применяем функцию к тексту\n",
    "result = extract_amount(test_text, start_str_list=expert_costs_keywords, before_str_list=before_keywords_demand, exclude=expert_costs_exclude, debug=True)\n",
    "result"
   ]
  },
  {
   "cell_type": "code",
   "execution_count": 62,
   "id": "397193f4-f6fc-465a-8760-106ec9ff7253",
   "metadata": {},
   "outputs": [],
   "source": [
    "# исправляем опечатку\n",
    "filtered_df.loc[131, 'expert_costs_demand'] = 35000.0"
   ]
  },
  {
   "cell_type": "code",
   "execution_count": 63,
   "id": "502f2c33-2869-4b8b-95b1-14067bfd2d24",
   "metadata": {},
   "outputs": [
    {
     "name": "stdout",
     "output_type": "stream",
     "text": [
      "Проверяем фрагмент:\n",
      "услуг эксперта не заверена печатью организации, выдавшей ее, не содержит в себе ни ссылок на заключенный договор, ни наи\n",
      "Проверяем фрагмент:\n",
      "проведение оценки и получение отчета было необходимо истцу для реализации права на обращение в суд и необходимостью опре\n",
      "Проверяем фрагмент:\n",
      "затрат на проведение ип ваа экспертных исследований в досудебном порядке. кроме того, представленная в материалы дела кв\n",
      "Проверяем фрагмент:\n",
      "заключения эксперта. ответчик добровольно перечислил истцу денежные средства в размере 79390,24 руб. после подтверждения\n",
      "Найдено значение: 79390.24\n",
      "Проверяем фрагмент:\n",
      "заключения эксперта подтверждается кассовым чеком от дд.мм.гггг на сумму 50 000 руб. и квитанцией к приходному кассовому\n",
      "Найдено значение: 50000.0\n",
      "Позиции в тексте: [(79390.24, 4451), (50000.0, 41723)]\n",
      "Первое значение: 79390.24\n"
     ]
    },
    {
     "data": {
      "text/plain": [
       "79390.24"
      ]
     },
     "execution_count": 63,
     "metadata": {},
     "output_type": "execute_result"
    }
   ],
   "source": [
    "# тест решения суда\n",
    "test_text = filtered_df.loc[255, 'text']\n",
    "\n",
    "# применяем функцию к тексту\n",
    "result = extract_amount(test_text, start_str_list=expert_costs_keywords, before_str_list=before_keywords_demand, exclude=expert_costs_exclude, debug=True)\n",
    "result"
   ]
  },
  {
   "cell_type": "code",
   "execution_count": 64,
   "id": "054e20cc-7f94-4934-a3ea-1f9f925f7f91",
   "metadata": {},
   "outputs": [],
   "source": [
    "# здесь в тексте речь о частичной оплате требований, а сумма за экспертизу равна 50 000 руб.\n",
    "filtered_df.loc[255, 'expert_costs_demand'] = 50000.0"
   ]
  },
  {
   "cell_type": "code",
   "execution_count": 65,
   "id": "a41d9828-4772-4cc9-949a-ed8a2d57d7af",
   "metadata": {},
   "outputs": [
    {
     "name": "stdout",
     "output_type": "stream",
     "text": [
      "Проверяем фрагмент:\n",
      "услуг эксперта в размере 50 000 руб. также суд признает обоснованными и подлежащими удовлетворению требования истца о вз\n",
      "Найдено значение: 50000.0\n",
      "Проверяем фрагмент:\n",
      "проведение оценки и получение отчета было необходимо истцу для реализации права на обращение в суд, необходимостью опред\n",
      "Проверяем фрагмент:\n",
      "заключения эксперта, указаны недостатки, возникшие в результате некачественного выполнения застройщиком строительных раб\n",
      "Проверяем фрагмент:\n",
      "заключения эксперта), составляет 182 036,22 руб. в соответствии с частями 3 и 4 статьи 67 гражданского процессуального к\n",
      "Найдено значение: 182036.22\n",
      "Проверяем фрагмент:\n",
      "заключения эксперта подтверждается кассовым чеком, квитанцией к приходному кассовому ордеру № от дд.мм.гггг на сумму 50 \n",
      "Позиции в тексте: [(182036.22, 14731), (50000.0, 25405)]\n",
      "Первое значение: 182036.22\n"
     ]
    },
    {
     "data": {
      "text/plain": [
       "182036.22"
      ]
     },
     "execution_count": 65,
     "metadata": {},
     "output_type": "execute_result"
    }
   ],
   "source": [
    "# тест решения суда\n",
    "test_text = filtered_df.loc[460, 'text']\n",
    "\n",
    "# применяем функцию к тексту\n",
    "result = extract_amount(test_text, start_str_list=expert_costs_keywords, before_str_list=before_keywords_demand, exclude=expert_costs_exclude, debug=True)\n",
    "result"
   ]
  },
  {
   "cell_type": "code",
   "execution_count": 66,
   "id": "b716ed0d-4d52-46af-b426-cfc825cf0aa0",
   "metadata": {},
   "outputs": [],
   "source": [
    "# исправляем ошибку\n",
    "filtered_df.loc[460, 'expert_costs_demand'] = 50000.0"
   ]
  },
  {
   "cell_type": "markdown",
   "id": "44608e2e-c9bc-45d3-ba62-1f3759210257",
   "metadata": {},
   "source": [
    "#### Проверка требований на составление претензии"
   ]
  },
  {
   "cell_type": "code",
   "execution_count": 67,
   "id": "2cdc782f-82ea-4e7c-bed1-0aa3b2ecd812",
   "metadata": {},
   "outputs": [
    {
     "data": {
      "text/plain": [
       "Int64Index([93], dtype='int64')"
      ]
     },
     "execution_count": 67,
     "metadata": {},
     "output_type": "execute_result"
    }
   ],
   "source": [
    "filtered_df[(filtered_df['pretrial_claim_costs_demand'] < 5000) & (filtered_df['pretrial_claim_costs_demand'].notna())].index"
   ]
  },
  {
   "cell_type": "code",
   "execution_count": 68,
   "id": "2ab3020a-4c61-4e6c-b346-cab2fa225404",
   "metadata": {},
   "outputs": [
    {
     "name": "stdout",
     "output_type": "stream",
     "text": [
      "Проверяем фрагмент:\n",
      "на подготовку им процессуальных документов, продолжительность рассмотрения дела и другие обстоятельства. пунктом 4 поста\n",
      "Проверяем фрагмент:\n",
      "на подготовку отчета об оценке недвижимости при оспаривании результатов определения кадастровой стоимости объекта недвиж\n",
      "Проверяем фрагмент:\n",
      "на подготовку претензии. истцом заявлено требование о взыскании почтовых расходов в сумме 63 руб. по отправке искового з\n",
      "Найдено значение: 63.0\n",
      "Позиции в тексте: [(63.0, 31670)]\n",
      "Первое значение: 63.0\n"
     ]
    },
    {
     "data": {
      "text/plain": [
       "63.0"
      ]
     },
     "execution_count": 68,
     "metadata": {},
     "output_type": "execute_result"
    }
   ],
   "source": [
    "# тест решения суда\n",
    "test_text = filtered_df.loc[93, 'text']\n",
    "\n",
    "# применяем функцию к тексту\n",
    "result = extract_amount(test_text, start_str_list=pretrial_claim_costs_keywords, before_str_list=before_keywords_demand, debug=True)\n",
    "result"
   ]
  },
  {
   "cell_type": "code",
   "execution_count": 69,
   "id": "f13b0613-7bf7-43ed-af22-29c67f616a4f",
   "metadata": {},
   "outputs": [],
   "source": [
    "# убираем лишнее значение\n",
    "filtered_df.loc[93, 'pretrial_claim_costs_demand'] = np.nan"
   ]
  },
  {
   "cell_type": "markdown",
   "id": "cf17a449-b7f6-47bc-bfac-5888b57dea09",
   "metadata": {},
   "source": [
    "#### Проверка требований и взысканий расходов на представителя"
   ]
  },
  {
   "cell_type": "code",
   "execution_count": 70,
   "id": "1041de35-a1be-404e-9462-780cf3ac2908",
   "metadata": {},
   "outputs": [
    {
     "data": {
      "text/plain": [
       "Int64Index([183, 582, 601], dtype='int64')"
      ]
     },
     "execution_count": 70,
     "metadata": {},
     "output_type": "execute_result"
    }
   ],
   "source": [
    "filtered_df[(filtered_df['laweyr_costs_demand'] > 60000) & (filtered_df['laweyr_costs_demand'].notna())].index"
   ]
  },
  {
   "cell_type": "code",
   "execution_count": 71,
   "id": "c36db36c-f428-4c30-9568-be8f6221090c",
   "metadata": {},
   "outputs": [
    {
     "name": "stdout",
     "output_type": "stream",
     "text": [
      "Проверяем фрагмент:\n",
      "представителя истца фио11, представителей ответчика фио5, фио6 рассмотрев в открытом судебном заседании гражданское дело\n",
      "Проверяем фрагмент:\n",
      "представителя фио2 в размере 62 923,50 рублей  взыскании неустойки в пользу каждого с дд.мм.гггг по день фактического ис\n",
      "Найдено значение: 62923.5\n",
      "Проверяем фрагмент:\n",
      "представителя в размере 25 000 рублей. требования мотивированы тем, что истцам на праве собственности принадлежит кварти\n",
      "Найдено значение: 25000.0\n",
      "Проверяем фрагмент:\n",
      "представителя ооо «карбышева 43» для осмотра <адрес> устранения выявленных недостатков за счёт застройщика. от предложен\n",
      "Проверяем фрагмент:\n",
      "представителя застройщика, что ставит под сомнение выводы экспертного заключения № от дд.мм.гггг. также не были проведен\n",
      "Проверяем фрагмент:\n",
      "представителя ответчика, исследовав материалы дела, пришел к следующим выводам. в соответствии с ч. 1 ст. 7 федерального\n",
      "Проверяем фрагмент:\n",
      "представителя в размере 25 000 рублей. факт понесенных расходов подтверждается: квитанцией к приходному кассовому ордеру\n",
      "Найдено значение: 25000.0\n",
      "Проверяем фрагмент:\n",
      "представителя, понесенные лицом, в пользу которого принят судебный акт, с другого лица, участвующего в деле, в разумных \n",
      "Проверяем фрагмент:\n",
      "представителя, и тем самым - на реализацию требования статьи 17 (часть 3) <данные изъяты> <данные изъяты> федерации, сог\n",
      "Проверяем фрагмент:\n",
      "представителя, суд не вправе уменьшать его произвольно, тем более, если другая сторона не заявляет возражения и не предс\n",
      "Проверяем фрагмент:\n",
      "представителя сумму, если сочтет ее чрезмерной с учетом конкретных обстоятельств. сумму подлежащих взысканию в судебном \n",
      "Проверяем фрагмент:\n",
      "представителя суд определяет, оценивая доказательства в порядке ст. 67 гпк рф, исходя из объема проведенной представител\n",
      "Проверяем фрагмент:\n",
      "представителя, понесенные лицом, в пользу которого принят судебный акт, взыскиваются судом с другого лица, участвующего \n",
      "Проверяем фрагмент:\n",
      "представителя, исходя из критерия разумности размера судебных расходов, приходит к выводу о наличии оснований для взыска\n",
      "Проверяем фрагмент:\n",
      "представителя за представление интересов истца в сумме 25 000 руб., что в полной мере соответствует пределам разумности \n",
      "Найдено значение: 25000.0\n",
      "Проверяем фрагмент:\n",
      "представителя в сумме 25 000 руб. в соответствии с п. 3 с. 17 закона рф «о защите прав потребителей» потребители, иные и\n",
      "Найдено значение: 25000.0\n",
      "Позиции в тексте: [(62923.5, 870), (25000.0, 1341), (25000.0, 36721), (25000.0, 40320), (25000.0, 40708)]\n",
      "Первое значение: 62923.5\n"
     ]
    },
    {
     "data": {
      "text/plain": [
       "62923.5"
      ]
     },
     "execution_count": 71,
     "metadata": {},
     "output_type": "execute_result"
    }
   ],
   "source": [
    "# тест решения суда\n",
    "test_text = filtered_df.loc[183, 'text']\n",
    "\n",
    "# применяем функцию к тексту\n",
    "result = extract_amount(test_text, start_str_list=laweyr_costs_keywords, before_str_list=before_keywords_demand, debug=True)\n",
    "result"
   ]
  },
  {
   "cell_type": "code",
   "execution_count": 72,
   "id": "9d78c491-dfcc-40f2-b294-3b9b1079f088",
   "metadata": {},
   "outputs": [],
   "source": [
    "# первая сумма взята ошибочно\n",
    "filtered_df.loc[183, 'laweyr_costs_demand'] = 25000.0"
   ]
  },
  {
   "cell_type": "code",
   "execution_count": 73,
   "id": "00ab2480-ceac-4d1e-8fa6-253d791d4bf0",
   "metadata": {},
   "outputs": [
    {
     "name": "stdout",
     "output_type": "stream",
     "text": [
      "Проверяем фрагмент:\n",
      "представителя истцов по доверенности <данные изъяты>, представителя 3-го лица ооо «облик регион» по доверенности <данные\n",
      "Проверяем фрагмент:\n",
      "представителя 3-го лица ооо «облик регион» по доверенности <данные изъяты>, рассмотрев в открытом судебном заседании гра\n",
      "Проверяем фрагмент:\n",
      "представителя в размере 95 000 рублей  почтовые расходы в размере 63,00 рубля. истцы в судебное заседание не явились, из\n",
      "Найдено значение: 95000.0\n",
      "Проверяем фрагмент:\n",
      "представителя истцов была вызвана для опроса по заключению эксперт фио11, которая в судебном заседании поддержала выводы\n",
      "Проверяем фрагмент:\n",
      "представителя в размере 95 000 рублей, расходы по оплате экспертизы в размере 40 000 рублей, почтовые расходы в размере \n",
      "Найдено значение: 95000.0\n",
      "Проверяем фрагмент:\n",
      "представителя в разумных пределах. при определении размера расходов, подлежащих взысканию на оплату услуг представителя,\n",
      "Проверяем фрагмент:\n",
      "представителя, нужно учитывать, что суд обязан создавать условия, при которых соблюдался бы необходимый баланс процессуа\n",
      "Проверяем фрагмент:\n",
      "представителя в разумных пределах является одним из предусмотренных законом правовых способов, направленных против необо\n",
      "Проверяем фрагмент:\n",
      "представителя, а также на реализацию требования ст. 17 <данные изъяты> рф. как разъяснено в пунктах 10-13 постановления \n",
      "Проверяем фрагмент:\n",
      "представителя, если заявленная к взысканию сумма издержек, исходя из имеющихся в деле доказательств, носит явно неразумн\n",
      "Проверяем фрагмент:\n",
      "представителя, понесенные лицом, в пользу которого принят судебный акт, взыскиваются судом с другого лица, участвующего \n",
      "Проверяем фрагмент:\n",
      "представителя, которые при сравнимых обстоятельствах обычно взимаются за аналогичные услуги. при определении разумности \n",
      "Проверяем фрагмент:\n",
      "представителя по конкретному делу, суд принимает во внимание, что представителем были оказаны заказчику услуги по изучен\n",
      "Проверяем фрагмент:\n",
      "представителя в размере 76 000 рублей. в связи с изложенным следует взыскать с ооо <данные изъяты> застройщик «мотовилих\n",
      "Найдено значение: 76000.0\n",
      "Проверяем фрагмент:\n",
      "представителя в размере 76 000 рублей. из разъяснений, данных в пункте 2 постановления пленума верховного суда рф от 21 \n",
      "Найдено значение: 76000.0\n",
      "Позиции в тексте: [(95000.0, 2488), (95000.0, 32491), (76000.0, 41562), (76000.0, 41742)]\n",
      "Первое значение: 95000.0\n"
     ]
    },
    {
     "data": {
      "text/plain": [
       "95000.0"
      ]
     },
     "execution_count": 73,
     "metadata": {},
     "output_type": "execute_result"
    }
   ],
   "source": [
    "# тест решения суда\n",
    "test_text = filtered_df.loc[582, 'text']\n",
    "\n",
    "# применяем функцию к тексту\n",
    "result = extract_amount(test_text, start_str_list=laweyr_costs_keywords, before_str_list=before_keywords_demand, debug=True)\n",
    "result"
   ]
  },
  {
   "cell_type": "code",
   "execution_count": 74,
   "id": "c451ed85-fae2-41b4-8361-da9452ef0806",
   "metadata": {},
   "outputs": [
    {
     "name": "stdout",
     "output_type": "stream",
     "text": [
      "Проверяем фрагмент:\n",
      "представителя в размере 100 000 рублей, расходов на проведение экспертизы в размере 25 000 рублей, расходов на доверенно\n",
      "Найдено значение: 100000.0\n",
      "Проверяем фрагмент:\n",
      "представителя в размере 27 956 рублей, гостиничных расходов представителя в размере 2 680 рублей, 225 рублей 60 копеек п\n",
      "Найдено значение: 27956.0\n",
      "Проверяем фрагмент:\n",
      "представителя в размере 2 680 рублей, 225 рублей 60 копеек почтовых расходов, всего 157 931 рубль 60 копеек. истец в суд\n",
      "Найдено значение: 2680.0\n",
      "Проверяем фрагмент:\n",
      "представителя, суммы, подлежащие выплате свидетелям, экспертам, специалистам и переводчикам и другие признанные судом не\n",
      "Проверяем фрагмент:\n",
      "представителя в разумных пределах. при определении размера расходов на представителя по конкретному делу, суд принимает \n",
      "Проверяем фрагмент:\n",
      "представителя по конкретному делу, суд принимает во внимание, что представителем была оказаны заказчику услуги по консул\n",
      "Проверяем фрагмент:\n",
      "представителя в размере 50 000 рублей. кроме того, истцом понесены почтовые расходы в размере 225 рублей 60 копеек, кото\n",
      "Найдено значение: 50000.0\n",
      "Проверяем фрагмент:\n",
      "представителя в связи с участием в судебных заседаниях. из материалов дела следует, что для представления интересов <дан\n",
      "Позиции в тексте: [(100000.0, 4060), (27956.0, 4226), (2680.0, 4286), (50000.0, 31898)]\n",
      "Первое значение: 100000.0\n"
     ]
    },
    {
     "data": {
      "text/plain": [
       "100000.0"
      ]
     },
     "execution_count": 74,
     "metadata": {},
     "output_type": "execute_result"
    }
   ],
   "source": [
    "# тест решения суда\n",
    "test_text = filtered_df.loc[601, 'text']\n",
    "\n",
    "# применяем функцию к тексту\n",
    "result = extract_amount(test_text, start_str_list=laweyr_costs_keywords, before_str_list=before_keywords_demand, debug=True)\n",
    "result"
   ]
  },
  {
   "cell_type": "markdown",
   "id": "8902dd33-af1e-4a60-bdca-09b5dcb6d7bf",
   "metadata": {},
   "source": [
    "#### Проверка взыскания судебных издержек"
   ]
  },
  {
   "cell_type": "code",
   "execution_count": 75,
   "id": "3b98afb3-698c-4770-8cef-9b12f668a295",
   "metadata": {},
   "outputs": [
    {
     "data": {
      "text/plain": [
       "Int64Index([ 16,  18,  37,  52,  64,  66,  71,  80,  92, 148, 174, 179, 194,\n",
       "            195, 510, 590, 607, 611, 634],\n",
       "           dtype='int64')"
      ]
     },
     "execution_count": 75,
     "metadata": {},
     "output_type": "execute_result"
    }
   ],
   "source": [
    "filtered_df[filtered_df['court_costs_recovery'].notna()].index"
   ]
  },
  {
   "cell_type": "code",
   "execution_count": 76,
   "id": "af729c56-5827-49e8-8543-1e683eab7698",
   "metadata": {},
   "outputs": [
    {
     "name": "stdout",
     "output_type": "stream",
     "text": [
      "Проверяем фрагмент:\n",
      "судебные расходы в размере 48 242,58 рублей, в остальной части иска отказать. взыскать с общества с ограниченной ответст\n",
      "Найдено значение: 48242.58\n",
      "Позиции в тексте: [(48242.58, 450)]\n",
      "Первое значение: 48242.58\n"
     ]
    },
    {
     "data": {
      "text/plain": [
       "48242.58"
      ]
     },
     "execution_count": 76,
     "metadata": {},
     "output_type": "execute_result"
    }
   ],
   "source": [
    "# тест решения суда\n",
    "test_text = filtered_df.loc[16, 'text']\n",
    "\n",
    "# применяем функцию к тексту\n",
    "result = extract_amount(test_text, start_str_list=court_costs_keywords, after_str_list=after_keywords_recovery, before_str_list=before_keywords_recovery, exclude=court_costs_exclude, debug=True)\n",
    "result"
   ]
  },
  {
   "cell_type": "markdown",
   "id": "e5e2ff59-6619-49ba-84a3-0e8cc5c8be2d",
   "metadata": {},
   "source": [
    "**Замечание:** под судебными расходами понимается как расходы на экспертизу, так и на представителя, возможно также почтовые расходы. Необходимо выделить случаи, когда:\n",
    "* Заявлены только расходы на экспертизу, но отсутствуют юридические расходы, а из взысканных значатся лишь судебные.\n",
    "* Заявлены только юридические расходы, но удовлетворены исключительно судебные.\n",
    "\n",
    "В случае если сумма требуемых расходов меньше, чем взысканная по судебным расходам, и при этом нет данных о конкретных удовлетворенных суммах, будем считать, что удовлетворили 100% суммы за экспертизу, а оставшаяся часть относится к юридическим расходам."
   ]
  },
  {
   "cell_type": "code",
   "execution_count": 77,
   "id": "d99be2a3-b279-4ad3-b767-0262eab2688c",
   "metadata": {},
   "outputs": [
    {
     "data": {
      "text/html": [
       "<div>\n",
       "<style scoped>\n",
       "    .dataframe tbody tr th:only-of-type {\n",
       "        vertical-align: middle;\n",
       "    }\n",
       "\n",
       "    .dataframe tbody tr th {\n",
       "        vertical-align: top;\n",
       "    }\n",
       "\n",
       "    .dataframe thead th {\n",
       "        text-align: right;\n",
       "    }\n",
       "</style>\n",
       "<table border=\"1\" class=\"dataframe\">\n",
       "  <thead>\n",
       "    <tr style=\"text-align: right;\">\n",
       "      <th></th>\n",
       "      <th>expert_costs_demand</th>\n",
       "      <th>laweyr_costs_demand</th>\n",
       "      <th>expert_costs_recovery</th>\n",
       "      <th>laweyr_costs_recovery</th>\n",
       "      <th>court_costs_recovery</th>\n",
       "    </tr>\n",
       "  </thead>\n",
       "  <tbody>\n",
       "    <tr>\n",
       "      <th>16</th>\n",
       "      <td>30000.0</td>\n",
       "      <td>18000.0</td>\n",
       "      <td>NaN</td>\n",
       "      <td>NaN</td>\n",
       "      <td>48242.58</td>\n",
       "    </tr>\n",
       "    <tr>\n",
       "      <th>18</th>\n",
       "      <td>6500.0</td>\n",
       "      <td>NaN</td>\n",
       "      <td>NaN</td>\n",
       "      <td>NaN</td>\n",
       "      <td>6500.00</td>\n",
       "    </tr>\n",
       "    <tr>\n",
       "      <th>37</th>\n",
       "      <td>40000.0</td>\n",
       "      <td>50000.0</td>\n",
       "      <td>NaN</td>\n",
       "      <td>NaN</td>\n",
       "      <td>90315.00</td>\n",
       "    </tr>\n",
       "    <tr>\n",
       "      <th>52</th>\n",
       "      <td>30000.0</td>\n",
       "      <td>20000.0</td>\n",
       "      <td>NaN</td>\n",
       "      <td>NaN</td>\n",
       "      <td>30000.00</td>\n",
       "    </tr>\n",
       "    <tr>\n",
       "      <th>64</th>\n",
       "      <td>35000.0</td>\n",
       "      <td>NaN</td>\n",
       "      <td>NaN</td>\n",
       "      <td>NaN</td>\n",
       "      <td>35000.00</td>\n",
       "    </tr>\n",
       "    <tr>\n",
       "      <th>66</th>\n",
       "      <td>40000.0</td>\n",
       "      <td>NaN</td>\n",
       "      <td>NaN</td>\n",
       "      <td>NaN</td>\n",
       "      <td>40000.00</td>\n",
       "    </tr>\n",
       "    <tr>\n",
       "      <th>71</th>\n",
       "      <td>30000.0</td>\n",
       "      <td>NaN</td>\n",
       "      <td>NaN</td>\n",
       "      <td>NaN</td>\n",
       "      <td>12375.00</td>\n",
       "    </tr>\n",
       "    <tr>\n",
       "      <th>80</th>\n",
       "      <td>40000.0</td>\n",
       "      <td>NaN</td>\n",
       "      <td>NaN</td>\n",
       "      <td>NaN</td>\n",
       "      <td>40000.00</td>\n",
       "    </tr>\n",
       "    <tr>\n",
       "      <th>92</th>\n",
       "      <td>40000.0</td>\n",
       "      <td>NaN</td>\n",
       "      <td>NaN</td>\n",
       "      <td>NaN</td>\n",
       "      <td>39452.00</td>\n",
       "    </tr>\n",
       "    <tr>\n",
       "      <th>148</th>\n",
       "      <td>40000.0</td>\n",
       "      <td>NaN</td>\n",
       "      <td>NaN</td>\n",
       "      <td>NaN</td>\n",
       "      <td>40000.00</td>\n",
       "    </tr>\n",
       "    <tr>\n",
       "      <th>179</th>\n",
       "      <td>40000.0</td>\n",
       "      <td>NaN</td>\n",
       "      <td>NaN</td>\n",
       "      <td>NaN</td>\n",
       "      <td>38912.00</td>\n",
       "    </tr>\n",
       "    <tr>\n",
       "      <th>194</th>\n",
       "      <td>40000.0</td>\n",
       "      <td>NaN</td>\n",
       "      <td>NaN</td>\n",
       "      <td>NaN</td>\n",
       "      <td>39088.00</td>\n",
       "    </tr>\n",
       "    <tr>\n",
       "      <th>195</th>\n",
       "      <td>40000.0</td>\n",
       "      <td>NaN</td>\n",
       "      <td>NaN</td>\n",
       "      <td>NaN</td>\n",
       "      <td>40000.00</td>\n",
       "    </tr>\n",
       "    <tr>\n",
       "      <th>510</th>\n",
       "      <td>50000.0</td>\n",
       "      <td>NaN</td>\n",
       "      <td>NaN</td>\n",
       "      <td>NaN</td>\n",
       "      <td>50000.00</td>\n",
       "    </tr>\n",
       "  </tbody>\n",
       "</table>\n",
       "</div>"
      ],
      "text/plain": [
       "     expert_costs_demand  laweyr_costs_demand  expert_costs_recovery  \\\n",
       "16               30000.0              18000.0                    NaN   \n",
       "18                6500.0                  NaN                    NaN   \n",
       "37               40000.0              50000.0                    NaN   \n",
       "52               30000.0              20000.0                    NaN   \n",
       "64               35000.0                  NaN                    NaN   \n",
       "66               40000.0                  NaN                    NaN   \n",
       "71               30000.0                  NaN                    NaN   \n",
       "80               40000.0                  NaN                    NaN   \n",
       "92               40000.0                  NaN                    NaN   \n",
       "148              40000.0                  NaN                    NaN   \n",
       "179              40000.0                  NaN                    NaN   \n",
       "194              40000.0                  NaN                    NaN   \n",
       "195              40000.0                  NaN                    NaN   \n",
       "510              50000.0                  NaN                    NaN   \n",
       "\n",
       "     laweyr_costs_recovery  court_costs_recovery  \n",
       "16                     NaN              48242.58  \n",
       "18                     NaN               6500.00  \n",
       "37                     NaN              90315.00  \n",
       "52                     NaN              30000.00  \n",
       "64                     NaN              35000.00  \n",
       "66                     NaN              40000.00  \n",
       "71                     NaN              12375.00  \n",
       "80                     NaN              40000.00  \n",
       "92                     NaN              39452.00  \n",
       "148                    NaN              40000.00  \n",
       "179                    NaN              38912.00  \n",
       "194                    NaN              39088.00  \n",
       "195                    NaN              40000.00  \n",
       "510                    NaN              50000.00  "
      ]
     },
     "execution_count": 77,
     "metadata": {},
     "output_type": "execute_result"
    }
   ],
   "source": [
    "# создание фильтра: не удовлетворили за расходы кроме судебных(более 1500, чтобы исключить почтовые)\n",
    "filter_condition = (\n",
    "    ((filtered_df['expert_costs_recovery'].isna()) & (filtered_df['laweyr_costs_recovery'].isna())) &\n",
    "    (filtered_df['court_costs_recovery'].notna()) & (filtered_df['court_costs_recovery'] > 1500)\n",
    ")\n",
    "filtered_df.loc[filter_condition, ['expert_costs_demand', 'laweyr_costs_demand', 'expert_costs_recovery', 'laweyr_costs_recovery', 'court_costs_recovery']]"
   ]
  },
  {
   "cell_type": "code",
   "execution_count": 78,
   "id": "ed019459-4e22-4b59-8bdf-a9e2d4e46b73",
   "metadata": {},
   "outputs": [
    {
     "data": {
      "text/html": [
       "<div>\n",
       "<style scoped>\n",
       "    .dataframe tbody tr th:only-of-type {\n",
       "        vertical-align: middle;\n",
       "    }\n",
       "\n",
       "    .dataframe tbody tr th {\n",
       "        vertical-align: top;\n",
       "    }\n",
       "\n",
       "    .dataframe thead th {\n",
       "        text-align: right;\n",
       "    }\n",
       "</style>\n",
       "<table border=\"1\" class=\"dataframe\">\n",
       "  <thead>\n",
       "    <tr style=\"text-align: right;\">\n",
       "      <th></th>\n",
       "      <th>expert_costs_demand</th>\n",
       "      <th>laweyr_costs_demand</th>\n",
       "      <th>expert_costs_recovery</th>\n",
       "      <th>laweyr_costs_recovery</th>\n",
       "      <th>court_costs_recovery</th>\n",
       "    </tr>\n",
       "  </thead>\n",
       "  <tbody>\n",
       "  </tbody>\n",
       "</table>\n",
       "</div>"
      ],
      "text/plain": [
       "Empty DataFrame\n",
       "Columns: [expert_costs_demand, laweyr_costs_demand, expert_costs_recovery, laweyr_costs_recovery, court_costs_recovery]\n",
       "Index: []"
      ]
     },
     "execution_count": 78,
     "metadata": {},
     "output_type": "execute_result"
    }
   ],
   "source": [
    "# создание фильтра: не удовлетворили расходы на экспертизу, но удовлетворили на представителя и судебные(более 1500, чтобы исключить почтовые)\n",
    "filter_condition = (\n",
    "        ((filtered_df['expert_costs_recovery'].isna()) & (filtered_df['laweyr_costs_recovery'].notna())) &\n",
    "        (filtered_df['court_costs_recovery'].notna()) & (filtered_df['court_costs_recovery'] > 1500)\n",
    ")\n",
    "filtered_df.loc[filter_condition, ['expert_costs_demand', 'laweyr_costs_demand', 'expert_costs_recovery', 'laweyr_costs_recovery', 'court_costs_recovery']]"
   ]
  },
  {
   "cell_type": "code",
   "execution_count": 79,
   "id": "10d6670e-6bf8-447e-ad20-3ceb5a98dbb5",
   "metadata": {},
   "outputs": [
    {
     "data": {
      "text/html": [
       "<div>\n",
       "<style scoped>\n",
       "    .dataframe tbody tr th:only-of-type {\n",
       "        vertical-align: middle;\n",
       "    }\n",
       "\n",
       "    .dataframe tbody tr th {\n",
       "        vertical-align: top;\n",
       "    }\n",
       "\n",
       "    .dataframe thead th {\n",
       "        text-align: right;\n",
       "    }\n",
       "</style>\n",
       "<table border=\"1\" class=\"dataframe\">\n",
       "  <thead>\n",
       "    <tr style=\"text-align: right;\">\n",
       "      <th></th>\n",
       "      <th>expert_costs_demand</th>\n",
       "      <th>laweyr_costs_demand</th>\n",
       "      <th>expert_costs_recovery</th>\n",
       "      <th>laweyr_costs_recovery</th>\n",
       "      <th>court_costs_recovery</th>\n",
       "    </tr>\n",
       "  </thead>\n",
       "  <tbody>\n",
       "  </tbody>\n",
       "</table>\n",
       "</div>"
      ],
      "text/plain": [
       "Empty DataFrame\n",
       "Columns: [expert_costs_demand, laweyr_costs_demand, expert_costs_recovery, laweyr_costs_recovery, court_costs_recovery]\n",
       "Index: []"
      ]
     },
     "execution_count": 79,
     "metadata": {},
     "output_type": "execute_result"
    }
   ],
   "source": [
    "# создание фильтра: не удовлетворили расходы на представителя, но удовлетворили за экспертизу и судебные(более 1500, чтобы исключить почтовые)\n",
    "filter_condition = (\n",
    "        ((filtered_df['expert_costs_recovery'].notna()) & (filtered_df['laweyr_costs_recovery'].isna())) &\n",
    "        (filtered_df['court_costs_recovery'].notna()) & (filtered_df['court_costs_recovery'] > 1500)\n",
    ")\n",
    "filtered_df.loc[filter_condition, ['expert_costs_demand', 'laweyr_costs_demand', 'expert_costs_recovery', 'laweyr_costs_recovery', 'court_costs_recovery']]"
   ]
  },
  {
   "cell_type": "code",
   "execution_count": 80,
   "id": "61d9c5f8-d69a-4189-b76a-352043572279",
   "metadata": {},
   "outputs": [
    {
     "data": {
      "text/html": [
       "<div>\n",
       "<style scoped>\n",
       "    .dataframe tbody tr th:only-of-type {\n",
       "        vertical-align: middle;\n",
       "    }\n",
       "\n",
       "    .dataframe tbody tr th {\n",
       "        vertical-align: top;\n",
       "    }\n",
       "\n",
       "    .dataframe thead th {\n",
       "        text-align: right;\n",
       "    }\n",
       "</style>\n",
       "<table border=\"1\" class=\"dataframe\">\n",
       "  <thead>\n",
       "    <tr style=\"text-align: right;\">\n",
       "      <th></th>\n",
       "      <th>expert_costs_demand</th>\n",
       "      <th>laweyr_costs_demand</th>\n",
       "      <th>expert_costs_recovery</th>\n",
       "      <th>laweyr_costs_recovery</th>\n",
       "      <th>court_costs_recovery</th>\n",
       "    </tr>\n",
       "  </thead>\n",
       "  <tbody>\n",
       "    <tr>\n",
       "      <th>16</th>\n",
       "      <td>30000.0</td>\n",
       "      <td>18000.0</td>\n",
       "      <td>30000.0</td>\n",
       "      <td>18242.58</td>\n",
       "      <td>48242.58</td>\n",
       "    </tr>\n",
       "    <tr>\n",
       "      <th>37</th>\n",
       "      <td>40000.0</td>\n",
       "      <td>50000.0</td>\n",
       "      <td>40000.0</td>\n",
       "      <td>50315.00</td>\n",
       "      <td>90315.00</td>\n",
       "    </tr>\n",
       "  </tbody>\n",
       "</table>\n",
       "</div>"
      ],
      "text/plain": [
       "    expert_costs_demand  laweyr_costs_demand  expert_costs_recovery  \\\n",
       "16              30000.0              18000.0                30000.0   \n",
       "37              40000.0              50000.0                40000.0   \n",
       "\n",
       "    laweyr_costs_recovery  court_costs_recovery  \n",
       "16               18242.58              48242.58  \n",
       "37               50315.00              90315.00  "
      ]
     },
     "execution_count": 80,
     "metadata": {},
     "output_type": "execute_result"
    }
   ],
   "source": [
    "# создание фильтра: требования за экспертизу и юриста меньше или равно удовлетворенных судебных расходов(более 1500, чтобы исключить почтовые) и без удовлетворенных сумм\n",
    "filter_condition = (\n",
    "    filtered_df[['expert_costs_recovery', 'laweyr_costs_recovery']].isna().all(axis=1) &\n",
    "    filtered_df[['expert_costs_demand', 'laweyr_costs_demand']].notna().all(axis=1) &\n",
    "    (filtered_df['expert_costs_demand'] < filtered_df['court_costs_recovery'])\n",
    ")\n",
    "\n",
    "# переносим значения\n",
    "filtered_df.loc[filter_condition, 'expert_costs_recovery'] = filtered_df.loc[filter_condition, 'expert_costs_demand']\n",
    "filtered_df.loc[filter_condition, 'laweyr_costs_recovery'] = (filtered_df.loc[filter_condition, 'court_costs_recovery']) - (filtered_df.loc[filter_condition, 'expert_costs_recovery'])\n",
    "filtered_df.loc[filter_condition, ['expert_costs_demand', 'laweyr_costs_demand', 'expert_costs_recovery', 'laweyr_costs_recovery', 'court_costs_recovery']]"
   ]
  },
  {
   "cell_type": "code",
   "execution_count": 81,
   "id": "67ff6fa5-d113-49f1-a2d3-f805c189a63e",
   "metadata": {},
   "outputs": [
    {
     "data": {
      "text/html": [
       "<div>\n",
       "<style scoped>\n",
       "    .dataframe tbody tr th:only-of-type {\n",
       "        vertical-align: middle;\n",
       "    }\n",
       "\n",
       "    .dataframe tbody tr th {\n",
       "        vertical-align: top;\n",
       "    }\n",
       "\n",
       "    .dataframe thead th {\n",
       "        text-align: right;\n",
       "    }\n",
       "</style>\n",
       "<table border=\"1\" class=\"dataframe\">\n",
       "  <thead>\n",
       "    <tr style=\"text-align: right;\">\n",
       "      <th></th>\n",
       "      <th>expert_costs_demand</th>\n",
       "      <th>laweyr_costs_demand</th>\n",
       "      <th>expert_costs_recovery</th>\n",
       "      <th>laweyr_costs_recovery</th>\n",
       "      <th>court_costs_recovery</th>\n",
       "    </tr>\n",
       "  </thead>\n",
       "  <tbody>\n",
       "    <tr>\n",
       "      <th>52</th>\n",
       "      <td>30000.0</td>\n",
       "      <td>20000.0</td>\n",
       "      <td>30000.0</td>\n",
       "      <td>NaN</td>\n",
       "      <td>30000.0</td>\n",
       "    </tr>\n",
       "  </tbody>\n",
       "</table>\n",
       "</div>"
      ],
      "text/plain": [
       "    expert_costs_demand  laweyr_costs_demand  expert_costs_recovery  \\\n",
       "52              30000.0              20000.0                30000.0   \n",
       "\n",
       "    laweyr_costs_recovery  court_costs_recovery  \n",
       "52                    NaN               30000.0  "
      ]
     },
     "execution_count": 81,
     "metadata": {},
     "output_type": "execute_result"
    }
   ],
   "source": [
    "# создание фильтра: требования за экспертизу и юриста меньше или равно удовлетворенных судебных расходов(более 1500, чтобы исключить почтовые) и без удовлетворенных сумм\n",
    "filter_condition = (\n",
    "    filtered_df[['expert_costs_recovery', 'laweyr_costs_recovery']].isna().all(axis=1) &\n",
    "    filtered_df[['expert_costs_demand', 'laweyr_costs_demand']].notna().all(axis=1) &\n",
    "    (filtered_df['expert_costs_demand'] >= filtered_df['court_costs_recovery'])\n",
    ")\n",
    "\n",
    "# переносим значения\n",
    "filtered_df.loc[filter_condition, 'expert_costs_recovery'] = filtered_df.loc[filter_condition, 'court_costs_recovery']\n",
    "filtered_df.loc[filter_condition, ['expert_costs_demand', 'laweyr_costs_demand', 'expert_costs_recovery', 'laweyr_costs_recovery', 'court_costs_recovery']]"
   ]
  },
  {
   "cell_type": "code",
   "execution_count": 82,
   "id": "c2ca262a-703e-4c9f-a3b5-27fa18e66494",
   "metadata": {},
   "outputs": [
    {
     "data": {
      "text/html": [
       "<div>\n",
       "<style scoped>\n",
       "    .dataframe tbody tr th:only-of-type {\n",
       "        vertical-align: middle;\n",
       "    }\n",
       "\n",
       "    .dataframe tbody tr th {\n",
       "        vertical-align: top;\n",
       "    }\n",
       "\n",
       "    .dataframe thead th {\n",
       "        text-align: right;\n",
       "    }\n",
       "</style>\n",
       "<table border=\"1\" class=\"dataframe\">\n",
       "  <thead>\n",
       "    <tr style=\"text-align: right;\">\n",
       "      <th></th>\n",
       "      <th>expert_costs_demand</th>\n",
       "      <th>laweyr_costs_demand</th>\n",
       "      <th>expert_costs_recovery</th>\n",
       "      <th>laweyr_costs_recovery</th>\n",
       "      <th>court_costs_recovery</th>\n",
       "    </tr>\n",
       "  </thead>\n",
       "  <tbody>\n",
       "    <tr>\n",
       "      <th>18</th>\n",
       "      <td>6500.0</td>\n",
       "      <td>NaN</td>\n",
       "      <td>6500.0</td>\n",
       "      <td>NaN</td>\n",
       "      <td>6500.0</td>\n",
       "    </tr>\n",
       "    <tr>\n",
       "      <th>64</th>\n",
       "      <td>35000.0</td>\n",
       "      <td>NaN</td>\n",
       "      <td>35000.0</td>\n",
       "      <td>NaN</td>\n",
       "      <td>35000.0</td>\n",
       "    </tr>\n",
       "    <tr>\n",
       "      <th>66</th>\n",
       "      <td>40000.0</td>\n",
       "      <td>NaN</td>\n",
       "      <td>40000.0</td>\n",
       "      <td>NaN</td>\n",
       "      <td>40000.0</td>\n",
       "    </tr>\n",
       "    <tr>\n",
       "      <th>71</th>\n",
       "      <td>30000.0</td>\n",
       "      <td>NaN</td>\n",
       "      <td>12375.0</td>\n",
       "      <td>NaN</td>\n",
       "      <td>12375.0</td>\n",
       "    </tr>\n",
       "    <tr>\n",
       "      <th>80</th>\n",
       "      <td>40000.0</td>\n",
       "      <td>NaN</td>\n",
       "      <td>40000.0</td>\n",
       "      <td>NaN</td>\n",
       "      <td>40000.0</td>\n",
       "    </tr>\n",
       "    <tr>\n",
       "      <th>92</th>\n",
       "      <td>40000.0</td>\n",
       "      <td>NaN</td>\n",
       "      <td>39452.0</td>\n",
       "      <td>NaN</td>\n",
       "      <td>39452.0</td>\n",
       "    </tr>\n",
       "    <tr>\n",
       "      <th>148</th>\n",
       "      <td>40000.0</td>\n",
       "      <td>NaN</td>\n",
       "      <td>40000.0</td>\n",
       "      <td>NaN</td>\n",
       "      <td>40000.0</td>\n",
       "    </tr>\n",
       "    <tr>\n",
       "      <th>179</th>\n",
       "      <td>40000.0</td>\n",
       "      <td>NaN</td>\n",
       "      <td>38912.0</td>\n",
       "      <td>NaN</td>\n",
       "      <td>38912.0</td>\n",
       "    </tr>\n",
       "    <tr>\n",
       "      <th>194</th>\n",
       "      <td>40000.0</td>\n",
       "      <td>NaN</td>\n",
       "      <td>39088.0</td>\n",
       "      <td>NaN</td>\n",
       "      <td>39088.0</td>\n",
       "    </tr>\n",
       "    <tr>\n",
       "      <th>195</th>\n",
       "      <td>40000.0</td>\n",
       "      <td>NaN</td>\n",
       "      <td>40000.0</td>\n",
       "      <td>NaN</td>\n",
       "      <td>40000.0</td>\n",
       "    </tr>\n",
       "    <tr>\n",
       "      <th>510</th>\n",
       "      <td>50000.0</td>\n",
       "      <td>NaN</td>\n",
       "      <td>50000.0</td>\n",
       "      <td>NaN</td>\n",
       "      <td>50000.0</td>\n",
       "    </tr>\n",
       "  </tbody>\n",
       "</table>\n",
       "</div>"
      ],
      "text/plain": [
       "     expert_costs_demand  laweyr_costs_demand  expert_costs_recovery  \\\n",
       "18                6500.0                  NaN                 6500.0   \n",
       "64               35000.0                  NaN                35000.0   \n",
       "66               40000.0                  NaN                40000.0   \n",
       "71               30000.0                  NaN                12375.0   \n",
       "80               40000.0                  NaN                40000.0   \n",
       "92               40000.0                  NaN                39452.0   \n",
       "148              40000.0                  NaN                40000.0   \n",
       "179              40000.0                  NaN                38912.0   \n",
       "194              40000.0                  NaN                39088.0   \n",
       "195              40000.0                  NaN                40000.0   \n",
       "510              50000.0                  NaN                50000.0   \n",
       "\n",
       "     laweyr_costs_recovery  court_costs_recovery  \n",
       "18                     NaN                6500.0  \n",
       "64                     NaN               35000.0  \n",
       "66                     NaN               40000.0  \n",
       "71                     NaN               12375.0  \n",
       "80                     NaN               40000.0  \n",
       "92                     NaN               39452.0  \n",
       "148                    NaN               40000.0  \n",
       "179                    NaN               38912.0  \n",
       "194                    NaN               39088.0  \n",
       "195                    NaN               40000.0  \n",
       "510                    NaN               50000.0  "
      ]
     },
     "execution_count": 82,
     "metadata": {},
     "output_type": "execute_result"
    }
   ],
   "source": [
    "# создание фильтра: требования за экспертизу меньше или равно удовлетворенных судебных расходов(более 1000, чтобы исключить почтовые) и без требований за представителя\n",
    "filter_condition = (\n",
    "    (filtered_df['expert_costs_demand'] >= filtered_df['court_costs_recovery']) & (filtered_df['court_costs_recovery'] > 1000) &\n",
    "    filtered_df[['laweyr_costs_demand', 'expert_costs_recovery', 'laweyr_costs_recovery']].isna().all(axis=1)\n",
    ")\n",
    "\n",
    "# переносим значения\n",
    "filtered_df.loc[filter_condition, 'expert_costs_recovery'] = filtered_df.loc[filter_condition, 'court_costs_recovery']\n",
    "filtered_df.loc[filter_condition, ['expert_costs_demand', 'laweyr_costs_demand', 'expert_costs_recovery', 'laweyr_costs_recovery', 'court_costs_recovery']]"
   ]
  },
  {
   "cell_type": "code",
   "execution_count": 83,
   "id": "1109ea84-81da-4723-8d17-f5f9fd9265e1",
   "metadata": {},
   "outputs": [
    {
     "data": {
      "text/html": [
       "<div>\n",
       "<style scoped>\n",
       "    .dataframe tbody tr th:only-of-type {\n",
       "        vertical-align: middle;\n",
       "    }\n",
       "\n",
       "    .dataframe tbody tr th {\n",
       "        vertical-align: top;\n",
       "    }\n",
       "\n",
       "    .dataframe thead th {\n",
       "        text-align: right;\n",
       "    }\n",
       "</style>\n",
       "<table border=\"1\" class=\"dataframe\">\n",
       "  <thead>\n",
       "    <tr style=\"text-align: right;\">\n",
       "      <th></th>\n",
       "      <th>expert_costs_demand</th>\n",
       "      <th>laweyr_costs_demand</th>\n",
       "      <th>expert_costs_recovery</th>\n",
       "      <th>laweyr_costs_recovery</th>\n",
       "      <th>court_costs_recovery</th>\n",
       "    </tr>\n",
       "  </thead>\n",
       "  <tbody>\n",
       "  </tbody>\n",
       "</table>\n",
       "</div>"
      ],
      "text/plain": [
       "Empty DataFrame\n",
       "Columns: [expert_costs_demand, laweyr_costs_demand, expert_costs_recovery, laweyr_costs_recovery, court_costs_recovery]\n",
       "Index: []"
      ]
     },
     "execution_count": 83,
     "metadata": {},
     "output_type": "execute_result"
    }
   ],
   "source": [
    "# создание фильтра: требования за расходы на представителя меньше или равно удовлетворенных судебных расходов(более 1000, чтобы исключить почтовые) и без требований за экспертизу\n",
    "filter_condition = (\n",
    "    (filtered_df['laweyr_costs_demand'] >= filtered_df['court_costs_recovery']) & (filtered_df['court_costs_recovery'] > 1000) &\n",
    "    filtered_df[['expert_costs_demand', 'expert_costs_recovery', 'laweyr_costs_recovery']].isna().all(axis=1)\n",
    ")\n",
    "\n",
    "# переносим значения\n",
    "filtered_df.loc[filter_condition, 'laweyr_costs_recovery'] = filtered_df.loc[filter_condition, 'court_costs_recovery']\n",
    "filtered_df.loc[filter_condition, ['expert_costs_demand', 'laweyr_costs_demand', 'expert_costs_recovery', 'laweyr_costs_recovery', 'court_costs_recovery']]"
   ]
  },
  {
   "cell_type": "markdown",
   "id": "d8f197fb-a98c-4511-b706-60e9c1cf5aa2",
   "metadata": {},
   "source": [
    "#### Проверка требований и взысканий компенсации за дефекты"
   ]
  },
  {
   "cell_type": "code",
   "execution_count": 84,
   "id": "a107ab4f-91a9-4e34-a0bf-5b22a9be99ae",
   "metadata": {},
   "outputs": [
    {
     "data": {
      "text/plain": [
       "Int64Index([20, 70, 74, 77, 108, 299, 309, 376, 402, 462, 601], dtype='int64')"
      ]
     },
     "execution_count": 84,
     "metadata": {},
     "output_type": "execute_result"
    }
   ],
   "source": [
    "filtered_df[(filtered_df['defect_compensation_demand'] > 460000) & (filtered_df['defect_compensation_demand'].notna())].index"
   ]
  },
  {
   "cell_type": "markdown",
   "id": "ff0725f2-c76f-43bb-ba5b-2f5bdf68611a",
   "metadata": {},
   "source": [
    "**Замечание:** количество выбросов достаточно велико, однако сама функция просто выбирает максимальное значение из указанных, что снижает вероятность ошибок. Скорее всего, данные корректны, и выбросы следует просто отфильтровать."
   ]
  },
  {
   "cell_type": "code",
   "execution_count": 85,
   "id": "7d8ab8a9-0214-4e7b-b144-3ace82ef42cb",
   "metadata": {},
   "outputs": [
    {
     "data": {
      "text/plain": [
       "Int64Index([70, 74, 77, 212, 332, 401, 402, 601], dtype='int64')"
      ]
     },
     "execution_count": 85,
     "metadata": {},
     "output_type": "execute_result"
    }
   ],
   "source": [
    "filtered_df[(filtered_df['defect_compensation_recovery'] > 350000) & (filtered_df['defect_compensation_recovery'].notna())].index"
   ]
  },
  {
   "cell_type": "markdown",
   "id": "838053b0-ddb8-4b36-a53f-95ad9910449e",
   "metadata": {},
   "source": [
    "**Замечание:** интерес представляют уникальные выбросы, которые не совпадают с выбросами по требованиям за устранение недостатков."
   ]
  },
  {
   "cell_type": "code",
   "execution_count": 86,
   "id": "d6cf7504-3576-4f2f-af2b-26d86c904d92",
   "metadata": {},
   "outputs": [
    {
     "name": "stdout",
     "output_type": "stream",
     "text": [
      "Проверяем фрагмент:\n",
      "недостатков объекта долевого строительства в размере 100 112, 09 руб., неустойку в размере 3 599, 92 руб., компенсацию м\n",
      "Найдено значение: 100112.09\n",
      "Проверяем фрагмент:\n",
      "недостатков объекта долевого строительства в размере 100 112, 09 руб., неустойку в размере 3 599, 92 руб., компенсацию м\n",
      "Найдено значение: 100112.09\n",
      "Проверяем фрагмент:\n",
      "недостатков объекта долевого строительства в размере 100 112, 09 руб., неустойку в размере 3 599, 92 руб., компенсацию м\n",
      "Найдено значение: 100112.09\n",
      "Проверяем фрагмент:\n",
      "недостатков объекта долевого строительства в размере 100 112, 09 руб., неустойку в размере 3 599, 92 руб., компенсацию м\n",
      "Найдено значение: 100112.09\n",
      "Позиции в тексте: [(100112.09, 198), (100112.09, 642), (100112.09, 932), (100112.09, 1222)]\n",
      "Общая сумма: 400448.36\n"
     ]
    },
    {
     "data": {
      "text/plain": [
       "400448.36"
      ]
     },
     "execution_count": 86,
     "metadata": {},
     "output_type": "execute_result"
    }
   ],
   "source": [
    "# тест решения суда\n",
    "test_text = filtered_df.loc[212, 'text']\n",
    "\n",
    "# применяем функцию к тексту\n",
    "result = extract_amount(test_text, start_str_list=defect_compensation_keywords, after_str_list=after_keywords_recovery, exclude=defect_compensation_exclude, calculate_sum=True, debug=True)\n",
    "result"
   ]
  },
  {
   "cell_type": "code",
   "execution_count": 87,
   "id": "134ab3f6-ece4-4ad7-b337-74a7da024175",
   "metadata": {},
   "outputs": [
    {
     "name": "stdout",
     "output_type": "stream",
     "text": [
      "Проверяем фрагмент:\n",
      "недостатков объекта долевого строительства в размере 356 920 руб., неустойку в размере 13 347,83 руб., компенсацию морал\n",
      "Найдено значение: 356920.0\n",
      "Позиции в тексте: [(356920.0, 198)]\n",
      "Общая сумма: 356920.0\n"
     ]
    },
    {
     "data": {
      "text/plain": [
       "356920.0"
      ]
     },
     "execution_count": 87,
     "metadata": {},
     "output_type": "execute_result"
    }
   ],
   "source": [
    "# тест решения суда\n",
    "test_text = filtered_df.loc[332, 'text']\n",
    "\n",
    "# применяем функцию к тексту\n",
    "result = extract_amount(test_text, start_str_list=defect_compensation_keywords, after_str_list=after_keywords_recovery, exclude=defect_compensation_exclude, calculate_sum=True, debug=True)\n",
    "result"
   ]
  },
  {
   "cell_type": "code",
   "execution_count": 88,
   "id": "46609c42-cc2f-4205-95a6-554823e820c4",
   "metadata": {},
   "outputs": [
    {
     "name": "stdout",
     "output_type": "stream",
     "text": [
      "Проверяем фрагмент:\n",
      "недостатков объекта долевого строительства в размере 397 693 руб., неустойку в размере 15 771, 52 руб., компенсацию мора\n",
      "Найдено значение: 397693.0\n",
      "Позиции в тексте: [(397693.0, 198)]\n",
      "Общая сумма: 397693.0\n"
     ]
    },
    {
     "data": {
      "text/plain": [
       "397693.0"
      ]
     },
     "execution_count": 88,
     "metadata": {},
     "output_type": "execute_result"
    }
   ],
   "source": [
    "# тест решения суда\n",
    "test_text = filtered_df.loc[401, 'text']\n",
    "\n",
    "# применяем функцию к тексту\n",
    "result = extract_amount(test_text, start_str_list=defect_compensation_keywords, after_str_list=after_keywords_recovery, exclude=defect_compensation_exclude, calculate_sum=True, debug=True)\n",
    "result"
   ]
  },
  {
   "cell_type": "markdown",
   "id": "ecef4e54-e2fd-4a9c-ac22-5f8ba69419a7",
   "metadata": {},
   "source": [
    "#### Проверка требований и взысканий компенсации за моральный вред"
   ]
  },
  {
   "cell_type": "code",
   "execution_count": 89,
   "id": "b83f218d-4871-4bd1-bd5d-c907abb2864e",
   "metadata": {},
   "outputs": [
    {
     "data": {
      "text/plain": [
       "Int64Index([ 52,  70,  71,  72,  74, 108, 138, 152, 155, 178, 244, 257, 341,\n",
       "            491, 493, 499, 510, 582, 583, 594, 599, 601, 602, 615, 638, 640,\n",
       "            643],\n",
       "           dtype='int64')"
      ]
     },
     "execution_count": 89,
     "metadata": {},
     "output_type": "execute_result"
    }
   ],
   "source": [
    "filtered_df[(filtered_df['moral_damage_demand'] > 40000) & (filtered_df['moral_damage_demand'].notna())].index"
   ]
  },
  {
   "cell_type": "code",
   "execution_count": 90,
   "id": "ddf1d7c6-c78c-4a6b-9ec5-15d3b64a1cf7",
   "metadata": {},
   "outputs": [
    {
     "data": {
      "text/plain": [
       "Int64Index([ 12,  18, 138, 212, 344, 369, 480, 489, 490, 492, 497, 499, 510,\n",
       "            512, 516, 601, 602, 605, 617, 632, 633],\n",
       "           dtype='int64')"
      ]
     },
     "execution_count": 90,
     "metadata": {},
     "output_type": "execute_result"
    }
   ],
   "source": [
    "filtered_df[(filtered_df['moral_damage_recovery'] > 15000) & (filtered_df['moral_damage_recovery'].notna())].index"
   ]
  },
  {
   "cell_type": "markdown",
   "id": "7eed453f-83ef-41fd-8ddb-6917d7f33335",
   "metadata": {},
   "source": [
    "**Замечание:** количество выбросов довольно велико, но важно учитывать, что размер требований за моральный вред зависит от числа дольщиков. Например, сумма требований за устранение дефектов может быть сопоставимой для одного собственника, двух собственников или семьи с несовершеннолетними детьми, тогда как моральный вред в этих случаях может отличаться в несколько раз.\n",
    "\n",
    "Проведем выборочную проверку решений, где суммы превышают границу выбросов более чем в два раза, чтобы выявить возможные ошибки"
   ]
  },
  {
   "cell_type": "code",
   "execution_count": 91,
   "id": "783d3103-4861-42f7-b0c8-9774d03516a6",
   "metadata": {},
   "outputs": [
    {
     "data": {
      "text/plain": [
       "Int64Index([244, 257, 341, 601], dtype='int64')"
      ]
     },
     "execution_count": 91,
     "metadata": {},
     "output_type": "execute_result"
    }
   ],
   "source": [
    "filtered_df[(filtered_df['moral_damage_demand'] > 80000) & (filtered_df['moral_damage_demand'].notna())].index"
   ]
  },
  {
   "cell_type": "code",
   "execution_count": 92,
   "id": "3219b1b9-208e-4369-8960-05e30e6931b9",
   "metadata": {},
   "outputs": [
    {
     "name": "stdout",
     "output_type": "stream",
     "text": [
      "Проверяем фрагмент:\n",
      "морального вреда в размере 100 000 руб., расходы на проведение экспертизы в размере 50 000 руб. (том 2 л.д. 60). определ\n",
      "Найдено значение: 100000.0\n",
      "Проверяем фрагмент:\n",
      "морального вреда определяется судом и не зависит от размера возмещения имущественного вреда. компенсация морального вред\n",
      "Проверяем фрагмент:\n",
      "морального вреда осуществляется независимо от возмещения имущественного вреда и понесенных потребителем убытков. как раз\n",
      "Проверяем фрагмент:\n",
      "морального вреда достаточным условием для удовлетворения иска является установленный факт нарушения прав потребителя. ра\n",
      "Проверяем фрагмент:\n",
      "морального вреда определяется судом независимо от размера возмещения имущественного вреда, в связи с чем, размер денежно\n",
      "Проверяем фрагмент:\n",
      "морального вреда, не может быть поставлен в зависимость от стоимости товара (работы, услуги) или суммы подлежащей взыска\n",
      "Проверяем фрагмент:\n",
      "морального вреда в каждом конкретном случае должен определяться судом с учетом характера причиненных потребителю нравств\n",
      "Проверяем фрагмент:\n",
      "морального вреда с учетом характера причиненных потребителю нравственных и физических страданий, исходя из принципов раз\n",
      "Позиции в тексте: [(100000.0, 1527)]\n",
      "Первое значение: 100000.0\n"
     ]
    },
    {
     "data": {
      "text/plain": [
       "100000.0"
      ]
     },
     "execution_count": 92,
     "metadata": {},
     "output_type": "execute_result"
    }
   ],
   "source": [
    "# тест решения суда\n",
    "test_text = filtered_df.loc[244, 'text']\n",
    "\n",
    "# применяем функцию к тексту\n",
    "result = extract_amount(test_text, start_str_list=moral_damage_keywords, before_str_list=before_keywords_demand, exclude=moral_damage_exclude, debug=True)\n",
    "result"
   ]
  },
  {
   "cell_type": "code",
   "execution_count": 93,
   "id": "4ecce842-7067-4fd2-a732-f2a2a34bb960",
   "metadata": {},
   "outputs": [
    {
     "name": "stdout",
     "output_type": "stream",
     "text": [
      "Проверяем фрагмент:\n",
      "морального вреда, судебных расходов, у с т а н о в и л: истец фио1 обратилась в суд с иском к ответчику ооо «сму № сатур\n",
      "Проверяем фрагмент:\n",
      "морального вреда в размере 100 000 руб., судебных расходов на проведение экспертизы в размере 50 000 руб. (л.д.3-7, 244 \n",
      "Найдено значение: 100000.0\n",
      "Проверяем фрагмент:\n",
      "морального вреда, уменьшить неустойку, штраф на основании ст.333 гк рф, так как данные суммы являются чрезмерно завышенн\n",
      "Проверяем фрагмент:\n",
      "морального вреда в размере 25 000 руб., расходы на проведение экспертизы в размере 50 000 руб. (л.д.18-23 том 1). в связ\n",
      "Найдено значение: 25000.0\n",
      "Проверяем фрагмент:\n",
      "морального вреда, суд исходит из следующего. согласно статье 15 закона рф «о защите прав потребителей» моральный вред, п\n",
      "Проверяем фрагмент:\n",
      "морального вреда определяется судом и не зависит от размера возмещения имущественного вреда. компенсация морального вред\n",
      "Проверяем фрагмент:\n",
      "морального вреда осуществляется независимо от возмещения имущественного вреда и понесенных потребителем убытков. согласн\n",
      "Проверяем фрагмент:\n",
      "морального вреда достаточным условием для удовлетворения иска является установленный факт нарушения прав потребителя. ра\n",
      "Проверяем фрагмент:\n",
      "морального вреда определяется судом независимо от размера возмещения имущественного вреда, в связи с чем, размер денежно\n",
      "Проверяем фрагмент:\n",
      "морального вреда, не может быть поставлен в зависимость от стоимости товара (работы, услуги) или суммы подлежащей взыска\n",
      "Проверяем фрагмент:\n",
      "морального вреда в каждом конкретном случае должен определяться судом с учетом характера причиненных потребителю нравств\n",
      "Проверяем фрагмент:\n",
      "морального вреда в размере 7 000 руб. в соответствии с п.6 ст.13 закона рф «о защите прав потребителей» при удовлетворен\n",
      "Найдено значение: 7000.0\n",
      "Проверяем фрагмент:\n",
      "морального вреда). руководствуясь ст.ст.194-199 гпк рф, суд \n",
      "Позиции в тексте: [(100000.0, 861), (25000.0, 17287), (7000.0, 28671)]\n",
      "Первое значение: 100000.0\n"
     ]
    },
    {
     "data": {
      "text/plain": [
       "100000.0"
      ]
     },
     "execution_count": 93,
     "metadata": {},
     "output_type": "execute_result"
    }
   ],
   "source": [
    "# тест решения суда\n",
    "test_text = filtered_df.loc[257, 'text']\n",
    "\n",
    "# применяем функцию к тексту\n",
    "result = extract_amount(test_text, start_str_list=moral_damage_keywords, before_str_list=before_keywords_demand, exclude=moral_damage_exclude, debug=True)\n",
    "result"
   ]
  },
  {
   "cell_type": "code",
   "execution_count": 94,
   "id": "3c89644f-c404-494b-a09a-671d73853e8c",
   "metadata": {},
   "outputs": [
    {
     "name": "stdout",
     "output_type": "stream",
     "text": [
      "Проверяем фрагмент:\n",
      "морального вреда в размере 100 000 руб.  расходы на проведение экспертизы в размере 50 000 руб. (л.д.3-8). определением \n",
      "Найдено значение: 100000.0\n",
      "Проверяем фрагмент:\n",
      "морального вреда. <данные изъяты> лица ооо «астралит», ооо «стройтехнология» в судебное заседание не явились, извещались\n",
      "Проверяем фрагмент:\n",
      "морального вреда определяется судом и не зависит от размера возмещения имущественного вреда. компенсация морального вред\n",
      "Проверяем фрагмент:\n",
      "морального вреда осуществляется независимо от возмещения имущественного вреда и понесенных потребителем убытков. как раз\n",
      "Проверяем фрагмент:\n",
      "морального вреда достаточным условием для удовлетворения иска является установленный факт нарушения прав потребителя. ра\n",
      "Проверяем фрагмент:\n",
      "морального вреда определяется судом независимо от размера возмещения имущественного вреда, в связи с чем, размер денежно\n",
      "Проверяем фрагмент:\n",
      "морального вреда, не может быть поставлен в зависимость от стоимости товара (работы, услуги) или суммы подлежащей взыска\n",
      "Проверяем фрагмент:\n",
      "морального вреда в каждом конкретном случае должен определяться судом с учетом характера причиненных потребителю нравств\n",
      "Проверяем фрагмент:\n",
      "морального вреда с учетом характера причиненных потребителю нравственных и физических страданий и, исходя из принципов р\n",
      "Проверяем фрагмент:\n",
      "морального вреда)  требования о взыскании неустойки, которая уменьшается судом в связи с несоразмерностью последствиям н\n",
      "Проверяем фрагмент:\n",
      "морального вреда и взыскания неустойки, сниженной судом по правилам ст.333 гпк рф, правила о пропорциональности распреде\n",
      "Позиции в тексте: [(100000.0, 1702)]\n",
      "Первое значение: 100000.0\n"
     ]
    },
    {
     "data": {
      "text/plain": [
       "100000.0"
      ]
     },
     "execution_count": 94,
     "metadata": {},
     "output_type": "execute_result"
    }
   ],
   "source": [
    "# тест решения суда\n",
    "test_text = filtered_df.loc[341, 'text']\n",
    "\n",
    "# применяем функцию к тексту\n",
    "result = extract_amount(test_text, start_str_list=moral_damage_keywords, before_str_list=before_keywords_demand, exclude=moral_damage_exclude, debug=True)\n",
    "result"
   ]
  },
  {
   "cell_type": "code",
   "execution_count": 95,
   "id": "4aff57ef-88ab-41e6-bd92-9aacbb159fa5",
   "metadata": {},
   "outputs": [
    {
     "name": "stdout",
     "output_type": "stream",
     "text": [
      "Проверяем фрагмент:\n",
      "морального вреда, установил : <данные изъяты>, обратился в суд с иском к ооо «эмси истейт инвестмент» о соразмерном умен\n",
      "Проверяем фрагмент:\n",
      "морального вреда, указав в заявлении, что 18.01.2021 между истцом и ответчиком был заключен договор участия в долевом ст\n",
      "Проверяем фрагмент:\n",
      "морального вреда в размере 100 000 рублей, штраф в пользу потребителя в размере 540 053 рубля 93 копейки, судебные расхо\n",
      "Найдено значение: 100000.0\n",
      "Проверяем фрагмент:\n",
      "морального вреда, судебных расходов. даже в случае заявления ответчиком ходатайства о снижении неустойки, исключительные\n",
      "Проверяем фрагмент:\n",
      "морального вреда определяется судом и не зависит от размера возмещения имущественного вреда. в п. 45 постановления плену\n",
      "Проверяем фрагмент:\n",
      "морального вреда достаточным условием для удовлетворения иска является установленный факт нарушения прав потребителя. ра\n",
      "Проверяем фрагмент:\n",
      "морального вреда определяется судом в каждом конкретном случае с учетом характера причиненных потребителю нравственных и\n",
      "Проверяем фрагмент:\n",
      "морального вреда суд учитывает, что каких-либо необратимых последствий для истца в связи с нарушением ответчиком его пра\n",
      "Проверяем фрагмент:\n",
      "морального вреда в размере 30 000 рублей, в удовлетворении остальной части данного требования – отказать. истцом также з\n",
      "Найдено значение: 30000.0\n",
      "Позиции в тексте: [(100000.0, 3917), (30000.0, 18667)]\n",
      "Первое значение: 100000.0\n"
     ]
    },
    {
     "data": {
      "text/plain": [
       "100000.0"
      ]
     },
     "execution_count": 95,
     "metadata": {},
     "output_type": "execute_result"
    }
   ],
   "source": [
    "# тест решения суда\n",
    "test_text = filtered_df.loc[601, 'text']\n",
    "\n",
    "# применяем функцию к тексту\n",
    "result = extract_amount(test_text, start_str_list=moral_damage_keywords, before_str_list=before_keywords_demand, exclude=moral_damage_exclude, debug=True)\n",
    "result"
   ]
  },
  {
   "cell_type": "code",
   "execution_count": 96,
   "id": "9cab9bfa-2eed-41ba-b1da-768e0bdba6d7",
   "metadata": {},
   "outputs": [
    {
     "data": {
      "text/plain": [
       "Int64Index([492, 499], dtype='int64')"
      ]
     },
     "execution_count": 96,
     "metadata": {},
     "output_type": "execute_result"
    }
   ],
   "source": [
    "filtered_df[(filtered_df['moral_damage_recovery'] > 30000) & (filtered_df['moral_damage_recovery'].notna())].index"
   ]
  },
  {
   "cell_type": "code",
   "execution_count": 97,
   "id": "905865d9-80ea-4ce0-9d27-91f492dcd8d0",
   "metadata": {},
   "outputs": [
    {
     "name": "stdout",
     "output_type": "stream",
     "text": [
      "Проверяем фрагмент:\n",
      "морального вреда в размере 20 000 руб., расходы на оплату оценочных услуг в размере 40 000 руб., почтовые расходы в разм\n",
      "Найдено значение: 20000.0\n",
      "Проверяем фрагмент:\n",
      "морального вреда в размере 20 000 руб. взыскать с общества с ограниченной ответственностью <данные изъяты> застройщик «и\n",
      "Найдено значение: 20000.0\n",
      "Позиции в тексте: [(20000.0, 669), (20000.0, 1208)]\n",
      "Общая сумма: 40000.0\n"
     ]
    },
    {
     "data": {
      "text/plain": [
       "40000.0"
      ]
     },
     "execution_count": 97,
     "metadata": {},
     "output_type": "execute_result"
    }
   ],
   "source": [
    "# тест решения суда\n",
    "test_text = filtered_df.loc[492, 'text']\n",
    "\n",
    "# применяем функцию к тексту\n",
    "result = extract_amount(test_text, start_str_list=moral_damage_keywords, after_str_list=after_keywords_recovery, exclude=moral_damage_exclude, calculate_sum=True, debug=True)\n",
    "result"
   ]
  },
  {
   "cell_type": "code",
   "execution_count": 98,
   "id": "b88390d6-188f-4b53-bd6e-7876f50753b4",
   "metadata": {},
   "outputs": [
    {
     "name": "stdout",
     "output_type": "stream",
     "text": [
      "Проверяем фрагмент:\n",
      "морального вреда в размере 40 000 руб., штраф в размере 93 621 руб. 41 коп.  в пользу <данные изъяты> <данные изъяты> <д\n",
      "Найдено значение: 40000.0\n",
      "Позиции в тексте: [(40000.0, 1053)]\n",
      "Общая сумма: 40000.0\n"
     ]
    },
    {
     "data": {
      "text/plain": [
       "40000.0"
      ]
     },
     "execution_count": 98,
     "metadata": {},
     "output_type": "execute_result"
    }
   ],
   "source": [
    "# тест решения суда\n",
    "test_text = filtered_df.loc[499, 'text']\n",
    "\n",
    "# применяем функцию к тексту\n",
    "result = extract_amount(test_text, start_str_list=moral_damage_keywords, after_str_list=after_keywords_recovery, exclude=moral_damage_exclude, calculate_sum=True, debug=True)\n",
    "result"
   ]
  },
  {
   "cell_type": "markdown",
   "id": "88e1cbdf-62e2-421c-9782-8e2a297e82c5",
   "metadata": {},
   "source": [
    "#### Фильтрация данных"
   ]
  },
  {
   "cell_type": "markdown",
   "id": "91f5a7eb-e363-43a5-af1c-e502b76f4bf8",
   "metadata": {},
   "source": [
    "**Задача:** настроим фильтр для выбросов сумм за расходы и компенсации за дефекты, как для основных сумм исследования. Также добавим логический фильтр для сумм за неустойку и штраф, поскольку их размер напрямую зависит от удовлетворенной суммы компенсации за недостатки."
   ]
  },
  {
   "cell_type": "code",
   "execution_count": 99,
   "id": "b2cca86c-fb3d-4cf0-9dc4-8910eb711be3",
   "metadata": {},
   "outputs": [
    {
     "name": "stdout",
     "output_type": "stream",
     "text": [
      "<class 'pandas.core.frame.DataFrame'>\n",
      "Int64Index: 225 entries, 3 to 656\n",
      "Data columns (total 21 columns):\n",
      " #   Column                         Non-Null Count  Dtype         \n",
      "---  ------                         --------------  -----         \n",
      " 0   court_name                     225 non-null    object        \n",
      " 1   entry_date                     225 non-null    datetime64[ns]\n",
      " 2   result_date                    225 non-null    datetime64[ns]\n",
      " 3   decision                       225 non-null    object        \n",
      " 4   text                           225 non-null    object        \n",
      " 5   developer_name                 104 non-null    object        \n",
      " 6   rooms                          74 non-null     Int64         \n",
      " 7   area                           136 non-null    float64       \n",
      " 8   expert_costs_demand            214 non-null    float64       \n",
      " 9   pretrial_claim_costs_demand    34 non-null     float64       \n",
      " 10  laweyr_costs_demand            144 non-null    float64       \n",
      " 11  defect_compensation_demand     225 non-null    float64       \n",
      " 12  moral_damage_demand            223 non-null    float64       \n",
      " 13  expert_costs_recovery          152 non-null    float64       \n",
      " 14  pretrial_claim_costs_recovery  0 non-null      float64       \n",
      " 15  laweyr_costs_recovery          128 non-null    float64       \n",
      " 16  court_costs_recovery           14 non-null     float64       \n",
      " 17  defect_compensation_recovery   225 non-null    float64       \n",
      " 18  moral_damage_recovery          222 non-null    float64       \n",
      " 19  liquidated_recovery            135 non-null    float64       \n",
      " 20  penalty_recovery               181 non-null    float64       \n",
      "dtypes: Int64(1), datetime64[ns](2), float64(14), object(4)\n",
      "memory usage: 38.9+ KB\n"
     ]
    }
   ],
   "source": [
    "# фильтр для аномалий\n",
    "filter_condition = (\n",
    "    ((filtered_df['expert_costs_demand'].between(25000, 65000)) | (filtered_df['expert_costs_demand'].isna())) &\n",
    "    ((filtered_df['laweyr_costs_demand'] <= 60000) | (filtered_df['laweyr_costs_demand'].isna())) &\n",
    "    ((filtered_df['defect_compensation_demand'] <= 460000) | (filtered_df['defect_compensation_demand'].isna())) &\n",
    "    ((filtered_df['expert_costs_recovery'] >= 12000) | (filtered_df['expert_costs_recovery'].isna())) &\n",
    "    ((filtered_df['laweyr_costs_recovery'] <= 50000) | (filtered_df['laweyr_costs_recovery'].isna())) &\n",
    "    ((filtered_df['defect_compensation_recovery'] <= 350000) | (filtered_df['defect_compensation_recovery'].isna())) &\n",
    "    ((filtered_df['defect_compensation_recovery'] > filtered_df['liquidated_recovery']) | (filtered_df['liquidated_recovery'].isna())) &\n",
    "    ((filtered_df['defect_compensation_recovery'] > filtered_df['penalty_recovery']) | (filtered_df['penalty_recovery'].isna()))\n",
    ")\n",
    "\n",
    "# применение фильтра\n",
    "filtered_df = filtered_df.loc[filter_condition]\n",
    "filtered_df.info()"
   ]
  },
  {
   "cell_type": "markdown",
   "id": "62c01855-6a4c-489d-b7d3-39032c28bdf2",
   "metadata": {},
   "source": [
    "### Шаг 5. <a id=\"exploratory_data_analysis\">Исследовательский анализ данных</a> "
   ]
  },
  {
   "cell_type": "markdown",
   "id": "78584a1f-fe31-467d-971b-4cb84c8031ba",
   "metadata": {},
   "source": [
    "#### Количество решений по застройщикам"
   ]
  },
  {
   "cell_type": "code",
   "execution_count": 100,
   "id": "e1ff78c7-fade-4790-8b2d-d8a23eab3c90",
   "metadata": {},
   "outputs": [
    {
     "data": {
      "image/png": "[encoded data removed]",
      "text/plain": [
       "<Figure size 1200x600 with 1 Axes>"
      ]
     },
     "metadata": {},
     "output_type": "display_data"
    }
   ],
   "source": [
    "# готовим данные\n",
    "count_developer = filtered_df.groupby('developer_name')['decision'].count().sort_values(ascending=False).reset_index()\n",
    "\n",
    "# строим график\n",
    "plt.figure(figsize=(12, 6))\n",
    "sns.barplot(x='developer_name', y='decision', data=count_developer, palette='viridis')\n",
    "plt.title('Количество решений по застройщикам')\n",
    "plt.xlabel('Название застройщика')\n",
    "plt.ylabel('Количество решений')\n",
    "plt.xticks(rotation=45, ha='right')\n",
    "plt.show()"
   ]
  },
  {
   "cell_type": "markdown",
   "id": "368a48ee-112c-44f5-b301-3db0e25e65b9",
   "metadata": {},
   "source": [
    "**Вывод:** располагая данными лишь о половине судебных решений, удалось выделить двух застройщиков: Корпорация развития Пермского края и СтройПанельКомплект."
   ]
  },
  {
   "cell_type": "markdown",
   "id": "9449a371-2431-4010-b12d-3ae08a489871",
   "metadata": {},
   "source": [
    "#### Данные о количестве комнат в квартирах"
   ]
  },
  {
   "cell_type": "code",
   "execution_count": 101,
   "id": "ecc8cc8d-e60f-4755-9a8b-df633f52268f",
   "metadata": {},
   "outputs": [
    {
     "data": {
      "image/png": "[encoded data removed]",
      "text/plain": [
       "<Figure size 700x700 with 1 Axes>"
      ]
     },
     "metadata": {},
     "output_type": "display_data"
    }
   ],
   "source": [
    "# готовим данные\n",
    "rooms_count_df = filtered_df.pivot_table(index='rooms', values='decision', aggfunc='count')\n",
    "\n",
    "# добавляем доли\n",
    "rooms_count_sizes = rooms_count_df['decision']\n",
    "rooms_count_labels = rooms_count_df.index\n",
    "\n",
    "# добавляем цветовую палитру\n",
    "colors = sns.color_palette(\"viridis\", len(rooms_count_sizes))\n",
    "\n",
    "plt.figure(figsize=(7, 7))\n",
    "plt.pie(rooms_count_sizes, labels=rooms_count_labels, autopct=lambda p:f'{p*sum(rooms_count_sizes)/100 :.0f}({p:.0f}%)', pctdistance=0.46, wedgeprops=dict(width=0.3), colors=colors)\n",
    "plt.title('Доля решений суда для квартир с разным количеством комнат')\n",
    "plt.show()"
   ]
  },
  {
   "cell_type": "markdown",
   "id": "75a6b207-e110-4c95-bade-0ae8389c625e",
   "metadata": {},
   "source": [
    "**Вывод:** большинство квартир оказалось двухкомнатными. Примечательно, что среди них нет четырехкомнатных квартир."
   ]
  },
  {
   "cell_type": "markdown",
   "id": "95290a71-e703-47a6-87b8-18a9e2462a34",
   "metadata": {},
   "source": [
    "#### Сколько занимает судебный процесс"
   ]
  },
  {
   "cell_type": "code",
   "execution_count": 102,
   "id": "fd646dc9-6986-4e8e-89bd-a2049d90bae7",
   "metadata": {},
   "outputs": [],
   "source": [
    "# функция для разделения названия \n",
    "def split_name(name):\n",
    "    # если длина названия больше 16 символов, ищем последний пробел до 16 символов\n",
    "    if len(name) > 16:\n",
    "        # ищем последний пробел до 16 символа\n",
    "        split_index = name[:16].rfind(' ')\n",
    "        # если пробел найден, делаем перенос строки на этом месте\n",
    "        if split_index != -1:\n",
    "            return name[:split_index] + '\\n' + name[split_index+1:]\n",
    "        # если пробел не найден, возвращаем исходное название с переносом на 16 символе\n",
    "        else:\n",
    "            return name[:16] + '\\n' + name[16:]\n",
    "    return name"
   ]
  },
  {
   "cell_type": "code",
   "execution_count": 103,
   "id": "4214523d-b616-4cb4-8bab-2880892efa32",
   "metadata": {},
   "outputs": [
    {
     "data": {
      "image/png": "[encoded data removed]",
      "text/plain": [
       "<Figure size 1200x600 with 1 Axes>"
      ]
     },
     "metadata": {},
     "output_type": "display_data"
    }
   ],
   "source": [
    "# готовим данные\n",
    "filtered_df['duration'] = (filtered_df['result_date'] - filtered_df['entry_date']).dt.days\n",
    "count_duration = filtered_df.groupby('court_name')['duration'].mean().sort_values(ascending=False).reset_index()\n",
    "\n",
    "# строим график\n",
    "plt.figure(figsize=(12, 6))\n",
    "ax = sns.barplot(x='court_name', y='duration', data=count_duration, palette='viridis')\n",
    "plt.title('Время судебного процесса от принятия иска до решения')\n",
    "plt.xlabel('Название суда')\n",
    "plt.ylabel('Продолжительность в днях')\n",
    "ax.set_xticklabels([split_name(name) for name in count_duration['court_name']])\n",
    "plt.xticks(rotation=45, ha='right')\n",
    "plt.show()"
   ]
  },
  {
   "cell_type": "markdown",
   "id": "0ea25b1e-296d-4f85-bb19-a8ecbce9906d",
   "metadata": {},
   "source": [
    "**Вывод:** Свердловский районный суд, вероятно, наиболее загружен — разбирательства в нём длятся в среднем восемь с половиной месяцев. Самые быстрые рассмотрения дел зафиксированы в Дзержинском и Индустриальном судах, где процесс занимает около шести месяцев."
   ]
  },
  {
   "cell_type": "markdown",
   "id": "885f5be7-7cd3-4b8c-b5ce-c425de26a475",
   "metadata": {},
   "source": [
    "#### Средняя сумма компенсации за дефекты на квадратный метр квартиры"
   ]
  },
  {
   "cell_type": "code",
   "execution_count": 104,
   "id": "2d9a75a0-19f8-4513-9b54-107b0f543bd4",
   "metadata": {},
   "outputs": [
    {
     "data": {
      "text/plain": [
       "count    136.000000\n",
       "mean      51.342353\n",
       "std       70.860327\n",
       "min        0.000000\n",
       "25%       34.275000\n",
       "50%       45.670000\n",
       "75%       60.450000\n",
       "max      840.320000\n",
       "Name: area, dtype: float64"
      ]
     },
     "execution_count": 104,
     "metadata": {},
     "output_type": "execute_result"
    }
   ],
   "source": [
    "# посмотрим распределение площади\n",
    "filtered_df['area'].describe()"
   ]
  },
  {
   "cell_type": "code",
   "execution_count": 105,
   "id": "c7b2264b-52b0-401c-91c6-2a2bb93b6285",
   "metadata": {},
   "outputs": [
    {
     "data": {
      "image/png": "[encoded data removed]",
      "text/plain": [
       "<Figure size 1200x600 with 1 Axes>"
      ]
     },
     "metadata": {},
     "output_type": "display_data"
    }
   ],
   "source": [
    "# фильтруем выбросы\n",
    "filtered_area_df = filtered_df.loc[filtered_df['area'].between(33.6, 60.7)].copy()\n",
    "\n",
    "# группируем по застройщикам и считаем сумму\n",
    "area_mean_developer = (\n",
    "    filtered_area_df.groupby('developer_name')[['area', 'defect_compensation_recovery']]\n",
    "    .sum()\n",
    "    .reset_index()\n",
    ")\n",
    "\n",
    "# рассчитываем среднее на квадратный метр для каждого застройщика\n",
    "area_mean_developer['per_m'] = area_mean_developer['defect_compensation_recovery'] / area_mean_developer['area']\n",
    "area_mean_developer = area_mean_developer[['developer_name', 'per_m']].sort_values(by='per_m', ascending=False)\n",
    "\n",
    "# общая средняя компенсация на кв.м по всему датасету\n",
    "overall_mean_per_m = (filtered_area_df['defect_compensation_recovery'].sum() / \n",
    "                      filtered_area_df['area'].sum())\n",
    "\n",
    "# строим график\n",
    "plt.figure(figsize=(12, 6))\n",
    "sns.barplot(x='developer_name', y='per_m', data=area_mean_developer, palette='viridis')\n",
    "# добавляем линию со средней компенсацией по всему датасету\n",
    "plt.axhline(overall_mean_per_m, color='black', linestyle='--', label=f'Общий уровень: {overall_mean_per_m:.2f} руб./м²')\n",
    "plt.title('Средняя сумма компенсации с кв.м. по застройщикам')\n",
    "plt.xlabel('Название застройщика')\n",
    "plt.ylabel('Средняя выплата с квадратного метра, руб.')\n",
    "plt.xticks(rotation=45, ha='right')\n",
    "plt.legend()\n",
    "\n",
    "plt.show()"
   ]
  },
  {
   "cell_type": "markdown",
   "id": "6fad9c3a-93c6-49f5-a9d8-7bb9ba686d85",
   "metadata": {},
   "source": [
    "**Вывод:** лидирующие позиции застройщиков \"Ясно\" и \"Горизонт\", по количеству дефектов, могут быть связаны с небольшим числом решений. В то же время, \"КРПК\" и \"Сатурн-Р\" напротив выделяются значительным количеством судебных разбирательств и сумма компенсаций за недостатки выше среднего. Данные для графика взяты из решений суда, т.е. после судебной экспертизы."
   ]
  },
  {
   "cell_type": "markdown",
   "id": "0d7e66dc-c32b-42ba-995a-1e9b080db1c0",
   "metadata": {},
   "source": [
    "#### Стоимость досудебной экспертизы"
   ]
  },
  {
   "cell_type": "code",
   "execution_count": 106,
   "id": "bd0c7ce6-8d8a-41cb-ab78-438386f9558d",
   "metadata": {},
   "outputs": [
    {
     "data": {
      "image/png": "[encoded data removed]",
      "text/plain": [
       "<Figure size 1200x600 with 1 Axes>"
      ]
     },
     "metadata": {},
     "output_type": "display_data"
    }
   ],
   "source": [
    "# извлекаем цвет из палитры 'viridis'\n",
    "bin_color = sns.color_palette('viridis', 10)[0]\n",
    "\n",
    "# строим гистограмму распределения стоимости экспертиз\n",
    "plt.figure(figsize=(12, 6))\n",
    "sns.histplot(filtered_df['expert_costs_demand'], kde=True, bins=30, color=bin_color)\n",
    "plt.title('Распределение стоимости экспертиз')\n",
    "plt.xlabel('Стоимость экспертиз, в руб.')\n",
    "plt.ylabel('Количество экспертиз')\n",
    "plt.show()\n"
   ]
  },
  {
   "cell_type": "markdown",
   "id": "f8e6ce82-34e7-4c97-8bba-976839ba835d",
   "metadata": {},
   "source": [
    "**Вывод:** наиболее распространенные суммы за проведение строительно-технической экспертизы составляют 40 000 руб. и 50 000 руб., при этом 50 000 руб. является максимальной стоимостью."
   ]
  },
  {
   "cell_type": "markdown",
   "id": "c118847a-d64f-4298-918b-08109e49b335",
   "metadata": {},
   "source": [
    "#### Исследуем разницу требуемых сумм и взысканных"
   ]
  },
  {
   "cell_type": "code",
   "execution_count": 107,
   "id": "1d1095c7-6b7e-4f19-b50a-db61071c44b4",
   "metadata": {},
   "outputs": [
    {
     "data": {
      "image/png": "[encoded data removed]",
      "text/plain": [
       "<Figure size 1600x800 with 1 Axes>"
      ]
     },
     "metadata": {},
     "output_type": "display_data"
    }
   ],
   "source": [
    "# создаем палитру из 4 пар контрастных цветов\n",
    "custom_palette = [\n",
    "    '#FF3100', '#FF6440',  \n",
    "    '#FFB000', '#FFC440',  \n",
    "    '#A101A6', '#CD35D3',  \n",
    "    '#00B74A', '#37DB79'   \n",
    "]\n",
    "\n",
    "# создаем пары столбцов\n",
    "pair_columns = [\n",
    "    ('expert_costs_demand', 'expert_costs_recovery'),\n",
    "    ('laweyr_costs_demand', 'laweyr_costs_recovery'),\n",
    "    ('defect_compensation_demand', 'defect_compensation_recovery'),\n",
    "    ('moral_damage_demand', 'moral_damage_recovery')\n",
    "]\n",
    "\n",
    "# преобразуем данные\n",
    "paired_data = []\n",
    "\n",
    "for demand_col, recovery_col in pair_columns:\n",
    "    temp_df = filtered_df.groupby('developer_name')[[demand_col, recovery_col]].mean().reset_index()\n",
    "    \n",
    "    # Добавляем общую среднюю строку\n",
    "    overall_mean = temp_df[[demand_col, recovery_col]].mean().to_frame().T\n",
    "    overall_mean['developer_name'] = 'Общее'\n",
    "    \n",
    "    temp_df = pd.concat([temp_df, overall_mean], ignore_index=True)\n",
    "    \n",
    "    temp_df = temp_df.melt(\n",
    "        id_vars='developer_name', \n",
    "        var_name='сategory', \n",
    "        value_name='average_value'\n",
    "    )\n",
    "    # перевод 'сategory' на русский\n",
    "    temp_df['сategory'] = temp_df['сategory'].replace({\n",
    "        'expert_costs_demand': 'Требования за экспертизу',\n",
    "        'expert_costs_recovery': 'Взыскание за экспертизу',\n",
    "        'laweyr_costs_demand': 'Требования за юридические услуги',\n",
    "        'laweyr_costs_recovery': 'Взыскание за юридические услуги',\n",
    "        'defect_compensation_demand': 'Требования за компенсацию дефектов',\n",
    "        'defect_compensation_recovery': 'Взыскание за компенсацию дефектов',\n",
    "        'moral_damage_demand': 'Требования за моральный ущерб',\n",
    "        'moral_damage_recovery': 'Взыскание за моральный ущерб'\n",
    "    })\n",
    "    \n",
    "    paired_data.append(temp_df)\n",
    "\n",
    "# объединяем все пары\n",
    "paired_df = pd.concat(paired_data, ignore_index=True)\n",
    "\n",
    "# оставляем топ-5 застройщиков + 'Общее'\n",
    "top_developers = filtered_df.groupby('developer_name')['decision'].count().nlargest(5).index.tolist()\n",
    "top_developers.append('Общее')\n",
    "\n",
    "paired_df = paired_df[paired_df['developer_name'].isin(top_developers)]\n",
    "\n",
    "# строим график\n",
    "plt.figure(figsize=(16, 8))\n",
    "sns.barplot(\n",
    "    x='developer_name', \n",
    "    y='average_value', \n",
    "    hue='сategory', \n",
    "    data=paired_df, \n",
    "    palette=custom_palette\n",
    ")\n",
    "\n",
    "plt.title('Сравнение средних значений требований и взысканий')\n",
    "plt.xlabel('Название застройщика')\n",
    "plt.ylabel('Среднее значение, в руб.')\n",
    "plt.xticks(rotation=45, ha='right')\n",
    "plt.legend(title='Тип затрат', bbox_to_anchor=(1.05, 1), loc='upper left')\n",
    "plt.show()"
   ]
  },
  {
   "cell_type": "markdown",
   "id": "97ca1153-9ec4-448d-804e-a77bf611360d",
   "metadata": {},
   "source": [
    "**Вывод:** можно отметить, что требования за расходы на экспертизу, как правило, удовлетворяются в полном или почти полном объеме, за исключением случаев с застройщиком Мегаполис. Требования за расходы на представителя обычно удовлетворяются в меньшей степени, и в некоторых случаях, например, по застройщику КРПК, они составляют лишь половину от запрашиваемой суммы.\n",
    "\n",
    "Компенсация за моральный вред, как правило, выплачивается в меньшем объеме по сравнению с основными суммами. Разница по этим трем позициям среди застройщиков не является значительной.\n",
    "\n",
    "В отношении взыскания компенсации за устранение дефектов сумма, указанная в решении, часто оказывается на треть меньше требуемой. Особо выделяется застройщик КРПК по абсолютным суммам и застройщик Мегаполис по объему взысканной компенсации, который составляет менее 50%"
   ]
  },
  {
   "cell_type": "markdown",
   "id": "06a272ce-59b1-49af-a05c-839f8e740672",
   "metadata": {},
   "source": [
    "#### Исследуем разницу требований основной суммы и взыскания компенсации вместе с штрафом и неустойкой"
   ]
  },
  {
   "cell_type": "code",
   "execution_count": 108,
   "id": "0864b63c-c167-4c66-99cb-967c065f630e",
   "metadata": {},
   "outputs": [
    {
     "data": {
      "image/png": "[encoded data removed]",
      "text/plain": [
       "<Figure size 1600x800 with 1 Axes>"
      ]
     },
     "metadata": {},
     "output_type": "display_data"
    }
   ],
   "source": [
    "# добавляем новую колонку Total Compensation (сумма трех колонок)\n",
    "filtered_df['total_compensation_recovery'] = (\n",
    "    filtered_df['defect_compensation_recovery'] + \n",
    "    filtered_df['liquidated_recovery'] + \n",
    "    filtered_df['penalty_recovery']\n",
    ")\n",
    "\n",
    "# список столбцов\n",
    "triple_columns = [\n",
    "    ('defect_compensation_demand', 'defect_compensation_recovery', 'total_compensation_recovery')\n",
    "]\n",
    "\n",
    "# преобразуем данные\n",
    "paired_data = []\n",
    "\n",
    "for demand_col, recovery_col, total_col in triple_columns:\n",
    "    temp_df = filtered_df[filtered_df['total_compensation_recovery'].notna()].groupby('developer_name')[[demand_col, recovery_col, total_col]].mean().reset_index()\n",
    "    \n",
    "    # добавляем общую среднюю строку\n",
    "    overall_mean = temp_df[[demand_col, recovery_col, total_col]].mean().to_frame().T\n",
    "    overall_mean['developer_name'] = 'Общее'\n",
    "    \n",
    "    temp_df = pd.concat([temp_df, overall_mean], ignore_index=True)\n",
    "    \n",
    "    temp_df = temp_df.melt(\n",
    "        id_vars='developer_name', \n",
    "        var_name='category', \n",
    "        value_name='average_value'\n",
    "    )\n",
    "    # перевод'сategory' на русский\n",
    "    temp_df['category'] = temp_df['category'].replace({\n",
    "        'defect_compensation_demand': 'Требования за компенсацию дефектов',\n",
    "        'defect_compensation_recovery': 'Взыскание за компенсацию дефектов',\n",
    "        'total_compensation_recovery': 'Взыскание за компенсацию дефектов, \\nнеустойку и штраф'\n",
    "    })\n",
    "    paired_data.append(temp_df)\n",
    "\n",
    "# объединяем все значения\n",
    "paired_df = pd.concat(paired_data, ignore_index=True)\n",
    "\n",
    "# оставляем топ-5 застройщиков + 'Общее'\n",
    "top_developers = filtered_df.groupby('developer_name')['decision'].count().nlargest(5).index.tolist()\n",
    "top_developers.append('Общее')\n",
    "\n",
    "paired_df = paired_df[paired_df['developer_name'].isin(top_developers)]\n",
    "\n",
    "# строим график\n",
    "plt.figure(figsize=(16, 8))\n",
    "sns.barplot(\n",
    "    x='developer_name', \n",
    "    y='average_value', \n",
    "    hue='category', \n",
    "    data=paired_df, \n",
    "    palette='viridis'\n",
    ")\n",
    "\n",
    "plt.title('Сравнение средних значений требуемой компенсации и взысканных сумм')\n",
    "plt.xlabel('Название застройщика')\n",
    "plt.ylabel('Среднее значение, в руб.')\n",
    "plt.xticks(rotation=45, ha='right')\n",
    "plt.legend(title='Тип затрат', bbox_to_anchor=(1.05, 1), loc='upper left')\n",
    "plt.show()"
   ]
  },
  {
   "cell_type": "markdown",
   "id": "651bf404-40ab-4627-bf98-ea929758425b",
   "metadata": {},
   "source": [
    "**Вывод:** если сложить суммы неустойки и штрафа с компенсацией за дефекты, то общая сумма в среднем приближается к требованиям, заявленным изначально. Без учета дополнительных сумм компенсация после независимой экспертизы, как правило, составляет около двух третей от желаемой суммы."
   ]
  },
  {
   "cell_type": "markdown",
   "id": "ec89b268-8f11-402f-92e0-5cd031aa8a37",
   "metadata": {},
   "source": [
    "### Шаг 6. <a id=\"conclusion\">Общий вывод</a> "
   ]
  },
  {
   "cell_type": "markdown",
   "id": "b838e16a-c87b-42f3-b0e3-544211a5584b",
   "metadata": {},
   "source": [
    "На основе анализа судебных решений, можно выделить несколько ключевых тенденций. Из данных о половине решений удалось выделить два застройщика по количеству процессов: \"Корпорация развития Пермского края\" и \"СтройПанельКомплект\". Половина квартир оказалось двухкомнатными, однокомнатные и трехкомнатные занимают доли около одной четвертой. Свердловский районный суд отличается наиболее длительным процессом, в то время как Дзержинский и Индустриальный суды характеризуются быстрыми разбирательствами. Можно ориентировать на диапазон от шести до девяти месяцев до выхода на решение суда.\n",
    "\n",
    "Дефектов выше среднего у следующих застройщиков: \"Ясно\", \"Корпорация развития Пермского края\", \"Сатурн-Р\", \"Горизонт\". В тоже время застройщик \"СтройПанельКомплект\" являясь вторым по количеству дел, имеет среднее количество дефектов существенно меньше среднего - около 2100 тыс.руб./кв.м., против 2800-2900 тыс. руб./кв.м. в среднем для всех решений(где есть данные о площади).\n",
    "\n",
    "Рыночные суммы за строительно-техническую экспертизу составляют 40 000 и 50 000 руб., при этом 50 000 руб. является максимальной стоимостью.\n",
    "\n",
    "Требования за расходы на экспертизу обычно удовлетворяются в полном объеме, за исключением случаев с застройщиком \"Мегаполис\". Расходы на представителя удовлетворяются в меньшем объеме, и в некоторых случаях, как у \"КРПК\", составляют лишь половину от запрашиваемой суммы. Компенсация за моральный вред, как правило, меньше основных сумм, но разница по этим трем позициям незначительная среди застройщиков. В отношении компенсации за дефекты сумма часто оказывается на треть меньше требуемой, при этом выделяются застройщики \"КРПК\" по абсолютным суммам и \"Мегаполис\" по объему взысканной компенсации, составляющей менее 50%.\n",
    "\n",
    "Если учесть неустойку и штрафы, то общая сумма требований приближается к изначальным. Однако, без дополнительных сумм, компенсация после судебной экспертизы составляет около двух третей от желаемой суммы."
   ]
  },
  {
   "cell_type": "code",
   "execution_count": null,
   "id": "04d789d8-e9c7-4d97-ab1a-72fdbceeda02",
   "metadata": {},
   "outputs": [],
   "source": []
  }
 ],
 "metadata": {
  "kernelspec": {
   "display_name": "Python 3 (ipykernel)",
   "language": "python",
   "name": "python3"
  },
  "language_info": {
   "codemirror_mode": {
    "name": "ipython",
    "version": 3
   },
   "file_extension": ".py",
   "mimetype": "text/x-python",
   "name": "python",
   "nbconvert_exporter": "python",
   "pygments_lexer": "ipython3",
   "version": "3.9.18"
  }
 },
 "nbformat": 4,
 "nbformat_minor": 5
}
